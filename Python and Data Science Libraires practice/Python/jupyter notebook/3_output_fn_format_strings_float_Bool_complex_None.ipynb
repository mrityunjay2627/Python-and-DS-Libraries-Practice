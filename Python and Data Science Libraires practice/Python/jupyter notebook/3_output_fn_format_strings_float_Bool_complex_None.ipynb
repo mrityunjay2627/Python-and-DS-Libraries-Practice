{
 "cells": [
  {
   "cell_type": "code",
   "execution_count": null,
   "metadata": {},
   "outputs": [],
   "source": [
    "# output statments"
   ]
  },
  {
   "cell_type": "code",
   "execution_count": 2,
   "metadata": {},
   "outputs": [
    {
     "name": "stdout",
     "output_type": "stream",
     "text": [
      "102030"
     ]
    }
   ],
   "source": [
    "a = 10\n",
    "b = 20\n",
    "c = 30\n",
    "\n",
    "print(a, end = '')\n",
    "print(b, end = '')\n",
    "print(c, end = '')"
   ]
  },
  {
   "cell_type": "code",
   "execution_count": 5,
   "metadata": {},
   "outputs": [
    {
     "name": "stdout",
     "output_type": "stream",
     "text": [
      "10-->20-->30\n"
     ]
    }
   ],
   "source": [
    "a = 10\n",
    "b = 20\n",
    "c = 30\n",
    "\n",
    "print(a,b,c , sep='-->')"
   ]
  },
  {
   "cell_type": "code",
   "execution_count": 7,
   "metadata": {},
   "outputs": [
    {
     "name": "stdout",
     "output_type": "stream",
     "text": [
      "10-->20++40\n",
      "30\n",
      "10\n",
      "40==afsaan"
     ]
    }
   ],
   "source": [
    "a = 10\n",
    "b = 20\n",
    "c = 30\n",
    "d = 40\n",
    "\n",
    "print(a, end = '-->')\n",
    "print(b,d, sep = '++' , end = '\\n')\n",
    "print(c,a,d, sep = '\\n' ,end = '==')\n",
    "print('afsaan' , end = '')"
   ]
  },
  {
   "cell_type": "code",
   "execution_count": null,
   "metadata": {},
   "outputs": [],
   "source": [
    "10-->20++40\n",
    "30\n",
    "10\n",
    "40==afsaan"
   ]
  },
  {
   "cell_type": "code",
   "execution_count": null,
   "metadata": {},
   "outputs": [],
   "source": [
    "# String format"
   ]
  },
  {
   "cell_type": "code",
   "execution_count": 9,
   "metadata": {},
   "outputs": [
    {
     "name": "stdout",
     "output_type": "stream",
     "text": [
      "enter the first nameAfsan\n",
      "enter the second namekhan'\n",
      "Afsan khan'\n"
     ]
    }
   ],
   "source": [
    "# Question 1\n",
    "# Take two input from the users i.e firstname and the last name and print as a full name\n",
    "\n",
    "first_name = input('enter the first name')\n",
    "second_name = input('enter the second name')\n",
    "\n",
    "print(first_name , second_name)"
   ]
  },
  {
   "cell_type": "code",
   "execution_count": 10,
   "metadata": {},
   "outputs": [
    {
     "name": "stdout",
     "output_type": "stream",
     "text": [
      "enter the first nameafsan\n",
      "enter the second namekhan\n",
      "My First name is afsan and Last name is khan\n"
     ]
    }
   ],
   "source": [
    "# Take two input from the users i.e firstname and the last name and print as a 'my first name is afsan and last\n",
    "# name is khan'\n",
    "\n",
    "first_name = input('enter the first name')\n",
    "second_name = input('enter the second name')\n",
    "\n",
    "print(\"My First name is\", first_name, \"and Last name is\", second_name, sep = ' ') "
   ]
  },
  {
   "cell_type": "code",
   "execution_count": 13,
   "metadata": {},
   "outputs": [
    {
     "name": "stdout",
     "output_type": "stream",
     "text": [
      "enter the first nameafsan\n",
      "enter the second namekhan\n",
      "My First name is afsan and Last name is khan\n"
     ]
    }
   ],
   "source": [
    "first_name = input('enter the first name')\n",
    "second_name = input('enter the second name')\n",
    "\n",
    "print(f\"My {first_name} First name is {first_name} and Last name is {second_name}\") "
   ]
  },
  {
   "cell_type": "code",
   "execution_count": null,
   "metadata": {},
   "outputs": [],
   "source": [
    "first_name = input('enter the first name')\n",
    "second_name = input('enter the second name')\n",
    "\n",
    "print(\"My First name is {} and Last name is {}\".format(first_name , second_name))"
   ]
  },
  {
   "cell_type": "markdown",
   "metadata": {},
   "source": [
    "# Floating Data type\n",
    "\n",
    "- any value which has a decimal point eg 100.99 , 2.4 , 5.6 etc"
   ]
  },
  {
   "cell_type": "code",
   "execution_count": null,
   "metadata": {},
   "outputs": [],
   "source": [
    "# Operation possible with float\n",
    "\n",
    "- arthmatic op\n",
    "- comparison op\n",
    "- eqality\n",
    "- logical op\n",
    "- identity op\n",
    "- assignment\n",
    "\n",
    "#not possible \n",
    "- bitwise\n",
    "- assignment  / compound ( bitwise op)\n",
    "\n",
    "Object reusabilty is not possible"
   ]
  },
  {
   "cell_type": "code",
   "execution_count": null,
   "metadata": {},
   "outputs": [],
   "source": [
    "a = 10\n",
    "a += 1 --->  a = a+1\n",
    "\n",
    "a &= 10 ---> a = a&10"
   ]
  },
  {
   "cell_type": "code",
   "execution_count": null,
   "metadata": {},
   "outputs": [],
   "source": [
    "# Complex data type\n",
    "\n",
    "any number that can be represented in the form of a+bj where a is the real and b is the imaginary"
   ]
  },
  {
   "cell_type": "code",
   "execution_count": 16,
   "metadata": {},
   "outputs": [
    {
     "name": "stdout",
     "output_type": "stream",
     "text": [
      "<class 'complex'>\n",
      "6.0\n",
      "7.0\n"
     ]
    }
   ],
   "source": [
    "num = 6+7j\n",
    "print(type(num))\n",
    "print(num.real)\n",
    "print(num.imag)"
   ]
  },
  {
   "cell_type": "markdown",
   "metadata": {},
   "source": [
    "# Complex data type\n",
    "\n",
    "# Operation possible with float\n",
    "\n",
    "- arthmatic op\n",
    "- eqality\n",
    "- logical op\n",
    "- identity op\n",
    "- assignment\n",
    "\n",
    "#not possible \n",
    "- bitwise\n",
    "- assignment  / compound ( bitwise op . modulo)\n",
    "- comparison op\n",
    "- arithmatic op ( modulo , floor)\n",
    "\n",
    "Object reusabilty is not possible"
   ]
  },
  {
   "cell_type": "code",
   "execution_count": 23,
   "metadata": {},
   "outputs": [
    {
     "ename": "TypeError",
     "evalue": "can't take floor of complex number.",
     "output_type": "error",
     "traceback": [
      "\u001b[0;31m---------------------------------------------------------------------------\u001b[0m",
      "\u001b[0;31mTypeError\u001b[0m                                 Traceback (most recent call last)",
      "\u001b[0;32m<ipython-input-23-103a8d789c74>\u001b[0m in \u001b[0;36m<module>\u001b[0;34m\u001b[0m\n\u001b[0;32m----> 1\u001b[0;31m \u001b[0;34m(\u001b[0m\u001b[0;36m6\u001b[0m\u001b[0;34m+\u001b[0m\u001b[0;36m7j\u001b[0m\u001b[0;34m)\u001b[0m \u001b[0;34m//\u001b[0m \u001b[0;36m2\u001b[0m\u001b[0;34m\u001b[0m\u001b[0;34m\u001b[0m\u001b[0m\n\u001b[0m",
      "\u001b[0;31mTypeError\u001b[0m: can't take floor of complex number."
     ]
    }
   ],
   "source": [
    "(6+7j) // 2"
   ]
  },
  {
   "cell_type": "code",
   "execution_count": null,
   "metadata": {},
   "outputs": [],
   "source": [
    "# None data type\n",
    "\n",
    "NOne means missing value\n",
    "\n",
    "employ_name  employ_no   employ email\n",
    "\n",
    "xyz            None          xyz@\n",
    "abc            None          None"
   ]
  },
  {
   "cell_type": "code",
   "execution_count": null,
   "metadata": {},
   "outputs": [],
   "source": [
    "# Boolean data type\n",
    "\n",
    "- True also means 1\n",
    "- False also means 0"
   ]
  },
  {
   "cell_type": "code",
   "execution_count": 25,
   "metadata": {},
   "outputs": [
    {
     "data": {
      "text/plain": [
       "True"
      ]
     },
     "execution_count": 25,
     "metadata": {},
     "output_type": "execute_result"
    }
   ],
   "source": [
    "int --> 0\n",
    "float --> 0.0\n",
    "string --> \"\"\n",
    "complex --> 0+0j\n",
    "None ---> false\n",
    "Bool ---> False"
   ]
  },
  {
   "cell_type": "code",
   "execution_count": 26,
   "metadata": {},
   "outputs": [
    {
     "data": {
      "text/plain": [
       "True"
      ]
     },
     "execution_count": 26,
     "metadata": {},
     "output_type": "execute_result"
    }
   ],
   "source": [
    "False == 0"
   ]
  },
  {
   "cell_type": "code",
   "execution_count": 28,
   "metadata": {},
   "outputs": [
    {
     "name": "stdout",
     "output_type": "stream",
     "text": [
      "3\n"
     ]
    }
   ],
   "source": [
    "print(True + True + True)"
   ]
  },
  {
   "cell_type": "markdown",
   "metadata": {},
   "source": [
    "# String Data types"
   ]
  },
  {
   "cell_type": "code",
   "execution_count": null,
   "metadata": {},
   "outputs": [],
   "source": [
    " - anything that can be written inside a - '...' , \"....\" , '''....''' , \"\"\"....\"\"\""
   ]
  },
  {
   "cell_type": "code",
   "execution_count": 29,
   "metadata": {},
   "outputs": [
    {
     "name": "stdout",
     "output_type": "stream",
     "text": [
      "python <class 'str'>\n",
      "python <class 'str'>\n",
      "python <class 'str'>\n",
      "python <class 'str'>\n"
     ]
    }
   ],
   "source": [
    "s1 = 'python'\n",
    "print(s1 , type(s1))\n",
    "\n",
    "s1 = \"python\"\n",
    "print(s1 , type(s1))\n",
    "\n",
    "s1 = '''python'''\n",
    "print(s1 , type(s1))\n",
    "\n",
    "s1 = \"\"\"python\"\"\"\n",
    "print(s1 , type(s1))"
   ]
  },
  {
   "cell_type": "code",
   "execution_count": 30,
   "metadata": {},
   "outputs": [
    {
     "ename": "SyntaxError",
     "evalue": "EOL while scanning string literal (<ipython-input-30-049bb8ba0c25>, line 1)",
     "output_type": "error",
     "traceback": [
      "\u001b[0;36m  File \u001b[0;32m\"<ipython-input-30-049bb8ba0c25>\"\u001b[0;36m, line \u001b[0;32m1\u001b[0m\n\u001b[0;31m    s1 = ' my\u001b[0m\n\u001b[0m              ^\u001b[0m\n\u001b[0;31mSyntaxError\u001b[0m\u001b[0;31m:\u001b[0m EOL while scanning string literal\n"
     ]
    }
   ],
   "source": [
    "s1 = ' my \n",
    "name \n",
    "is \n",
    "afsaan'\n",
    "\n",
    "print(s1)"
   ]
  },
  {
   "cell_type": "code",
   "execution_count": 31,
   "metadata": {},
   "outputs": [
    {
     "name": "stdout",
     "output_type": "stream",
     "text": [
      "my \n",
      "name \n",
      "is \n",
      "afsaan\n"
     ]
    }
   ],
   "source": [
    "s1 =  '''my \n",
    "name \n",
    "is \n",
    "afsaan'''\n",
    "\n",
    "print(s1)"
   ]
  },
  {
   "cell_type": "code",
   "execution_count": null,
   "metadata": {},
   "outputs": [],
   "source": [
    "s class'"
   ]
  },
  {
   "cell_type": "code",
   "execution_count": 34,
   "metadata": {},
   "outputs": [
    {
     "name": "stdout",
     "output_type": "stream",
     "text": [
      "this is the python's class <class 'str'>\n"
     ]
    }
   ],
   "source": [
    "# s1 = 'this is the python's class'\n",
    "# print(s1 , type(s1))\n",
    "\n",
    "\n",
    "s1 = \"this is the python's class\"\n",
    "print(s1 , type(s1))\n"
   ]
  },
  {
   "cell_type": "code",
   "execution_count": null,
   "metadata": {},
   "outputs": [],
   "source": [
    "s1 = \"this is the python's class\"\n",
    "print(s1 , type(s1))"
   ]
  },
  {
   "cell_type": "code",
   "execution_count": null,
   "metadata": {},
   "outputs": [],
   "source": [
    "# String properties"
   ]
  },
  {
   "cell_type": "code",
   "execution_count": 36,
   "metadata": {},
   "outputs": [
    {
     "name": "stdout",
     "output_type": "stream",
     "text": [
      "139915605197680\n",
      "139915610422832\n"
     ]
    }
   ],
   "source": [
    "a = 'python'\n",
    "print(id(a))\n",
    "print(id(a[0]))"
   ]
  },
  {
   "cell_type": "code",
   "execution_count": 42,
   "metadata": {},
   "outputs": [
    {
     "name": "stdout",
     "output_type": "stream",
     "text": [
      "y 139915608957808\n",
      "y 139915608957808\n"
     ]
    }
   ],
   "source": [
    "a = 'python'\n",
    "b = 'cython'\n",
    "\n",
    "print(a[1] , id(a[1]))\n",
    "print(b[1] , id(b[1]))"
   ]
  },
  {
   "cell_type": "code",
   "execution_count": 43,
   "metadata": {},
   "outputs": [
    {
     "name": "stdout",
     "output_type": "stream",
     "text": [
      "d\n"
     ]
    }
   ],
   "source": [
    "a = 'tutort academy'\n",
    "\n",
    "print(a[10])"
   ]
  },
  {
   "cell_type": "code",
   "execution_count": 44,
   "metadata": {},
   "outputs": [
    {
     "data": {
      "text/plain": [
       "'y'"
      ]
     },
     "execution_count": 44,
     "metadata": {},
     "output_type": "execute_result"
    }
   ],
   "source": [
    "a[-1]"
   ]
  },
  {
   "cell_type": "code",
   "execution_count": 47,
   "metadata": {},
   "outputs": [
    {
     "name": "stdout",
     "output_type": "stream",
     "text": [
      "139915610610928\n",
      "139915610610928\n"
     ]
    }
   ],
   "source": [
    "a = 'python'\n",
    "b = 'python'\n",
    "\n",
    "print(id(a[-1]))\n",
    "print(id(b[-1]))"
   ]
  },
  {
   "cell_type": "code",
   "execution_count": 48,
   "metadata": {},
   "outputs": [
    {
     "data": {
      "text/plain": [
       "'se'"
      ]
     },
     "execution_count": 48,
     "metadata": {},
     "output_type": "execute_result"
    }
   ],
   "source": [
    "# indexing - \n",
    "\n",
    "a = 'lionel messi'\n",
    "\n",
    "a[-2:6:-2]"
   ]
  },
  {
   "cell_type": "code",
   "execution_count": null,
   "metadata": {},
   "outputs": [],
   "source": []
  }
 ],
 "metadata": {
  "kernelspec": {
   "display_name": "Python 3",
   "language": "python",
   "name": "python3"
  },
  "language_info": {
   "codemirror_mode": {
    "name": "ipython",
    "version": 3
   },
   "file_extension": ".py",
   "mimetype": "text/x-python",
   "name": "python",
   "nbconvert_exporter": "python",
   "pygments_lexer": "ipython3",
   "version": "3.8.5"
  }
 },
 "nbformat": 4,
 "nbformat_minor": 4
}
