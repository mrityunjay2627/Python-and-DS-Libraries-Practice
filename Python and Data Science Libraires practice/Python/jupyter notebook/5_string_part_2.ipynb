{
 "cells": [
  {
   "cell_type": "code",
   "execution_count": 1,
   "metadata": {},
   "outputs": [
    {
     "data": {
      "text/plain": [
       "['__add__',\n",
       " '__class__',\n",
       " '__contains__',\n",
       " '__delattr__',\n",
       " '__dir__',\n",
       " '__doc__',\n",
       " '__eq__',\n",
       " '__format__',\n",
       " '__ge__',\n",
       " '__getattribute__',\n",
       " '__getitem__',\n",
       " '__getnewargs__',\n",
       " '__gt__',\n",
       " '__hash__',\n",
       " '__init__',\n",
       " '__init_subclass__',\n",
       " '__iter__',\n",
       " '__le__',\n",
       " '__len__',\n",
       " '__lt__',\n",
       " '__mod__',\n",
       " '__mul__',\n",
       " '__ne__',\n",
       " '__new__',\n",
       " '__reduce__',\n",
       " '__reduce_ex__',\n",
       " '__repr__',\n",
       " '__rmod__',\n",
       " '__rmul__',\n",
       " '__setattr__',\n",
       " '__sizeof__',\n",
       " '__str__',\n",
       " '__subclasshook__',\n",
       " 'capitalize',\n",
       " 'casefold',\n",
       " 'center',\n",
       " 'count',\n",
       " 'encode',\n",
       " 'endswith',\n",
       " 'expandtabs',\n",
       " 'find',\n",
       " 'format',\n",
       " 'format_map',\n",
       " 'index',\n",
       " 'isalnum',\n",
       " 'isalpha',\n",
       " 'isascii',\n",
       " 'isdecimal',\n",
       " 'isdigit',\n",
       " 'isidentifier',\n",
       " 'islower',\n",
       " 'isnumeric',\n",
       " 'isprintable',\n",
       " 'isspace',\n",
       " 'istitle',\n",
       " 'isupper',\n",
       " 'join',\n",
       " 'ljust',\n",
       " 'lower',\n",
       " 'lstrip',\n",
       " 'maketrans',\n",
       " 'partition',\n",
       " 'replace',\n",
       " 'rfind',\n",
       " 'rindex',\n",
       " 'rjust',\n",
       " 'rpartition',\n",
       " 'rsplit',\n",
       " 'rstrip',\n",
       " 'split',\n",
       " 'splitlines',\n",
       " 'startswith',\n",
       " 'strip',\n",
       " 'swapcase',\n",
       " 'title',\n",
       " 'translate',\n",
       " 'upper',\n",
       " 'zfill']"
      ]
     },
     "execution_count": 1,
     "metadata": {},
     "output_type": "execute_result"
    }
   ],
   "source": [
    "dir(str)"
   ]
  },
  {
   "cell_type": "code",
   "execution_count": 4,
   "metadata": {},
   "outputs": [
    {
     "name": "stdout",
     "output_type": "stream",
     "text": [
      "True\n",
      "True\n",
      "True\n"
     ]
    }
   ],
   "source": [
    "# startswith - return true if strings starts witht he specified prefix else false\n",
    "\n",
    "s = 'hello world'\n",
    "print(s.startswith('ll' , 2,7))\n",
    "\n",
    "\n",
    "# endswith\n",
    "s = 'hello world'\n",
    "print(s.endswith('d'))\n",
    "\n",
    "s = 'hello world'\n",
    "print(s.endswith('r' , 2,9))"
   ]
  },
  {
   "cell_type": "code",
   "execution_count": 11,
   "metadata": {},
   "outputs": [
    {
     "name": "stdout",
     "output_type": "stream",
     "text": [
      "True\n",
      "True\n",
      "False\n",
      "True\n",
      "------------------------------------------------------------------\n",
      "True\n",
      "False\n",
      "False\n",
      "False\n",
      "------------------------------------------------------------------\n",
      "False\n",
      "False\n",
      "False\n",
      "True\n",
      "------------------------------------------------------------------\n",
      "True\n",
      "False\n",
      "False\n",
      "False\n",
      "------------------------------------------------------------------\n",
      "True\n",
      "True\n",
      "True\n",
      "True\n",
      "False\n"
     ]
    }
   ],
   "source": [
    "s1 = 'abc'\n",
    "s2 = '123abc'\n",
    "s3 = '*'\n",
    "s4 = '112'\n",
    "\n",
    "# isalnum (is alpha numeric) - return true if string is either alphabet, numeric , alphanumeric\n",
    "print(s1.isalnum())\n",
    "print(s2.isalnum())\n",
    "print(s3.isalnum())\n",
    "print(s4.isalnum())\n",
    "\n",
    "print('------------------------------------------------------------------')\n",
    "# isaplha - return True if all character are aplhabet\n",
    "print(s1.isalpha())\n",
    "print(s2.isalpha())\n",
    "print(s3.isalpha())\n",
    "print(s4.isalpha())\n",
    "\n",
    "\n",
    "print('------------------------------------------------------------------')\n",
    "# isnumeric - return True if all character are numbers\n",
    "print(s1.isnumeric())\n",
    "print(s2.isnumeric())\n",
    "print(s3.isnumeric())\n",
    "print(s4.isnumeric())\n",
    "\n",
    "\n",
    "s1 = 'abc'\n",
    "s2 = '123abc'\n",
    "s3 = '*'\n",
    "s4 = '112'\n",
    "\n",
    "print('------------------------------------------------------------------')\n",
    "# isidentifir - return True if it follows the rule of identifer else false\n",
    "print(s1.isidentifier())\n",
    "print(s2.isidentifier())\n",
    "print(s3.isidentifier())\n",
    "print(s4.isidentifier())\n",
    "\n",
    "print('------------------------------------------------------------------')\n",
    "# isascii - return True if all the character are in ASCII tables else false\n",
    "print(s1.isascii())\n",
    "print(s2.isascii())\n",
    "print(s3.isascii())\n",
    "print(s4.isascii())\n",
    "\n",
    "print('fließen'.isascii())"
   ]
  },
  {
   "cell_type": "markdown",
   "metadata": {},
   "source": [
    "# Escape and Specail characters"
   ]
  },
  {
   "cell_type": "code",
   "execution_count": 12,
   "metadata": {},
   "outputs": [
    {
     "name": "stdout",
     "output_type": "stream",
     "text": [
      "hello\n",
      "world\n"
     ]
    }
   ],
   "source": [
    "# \\n - newline\n",
    "\n",
    "print('hello\\nworld')"
   ]
  },
  {
   "cell_type": "code",
   "execution_count": 15,
   "metadata": {},
   "outputs": [
    {
     "name": "stdout",
     "output_type": "stream",
     "text": [
      "line1line2line3\n"
     ]
    }
   ],
   "source": [
    "# \\  - back slash \n",
    "\n",
    "print('line1\\\n",
    "line2\\\n",
    "line3')"
   ]
  },
  {
   "cell_type": "code",
   "execution_count": 16,
   "metadata": {},
   "outputs": [
    {
     "name": "stdout",
     "output_type": "stream",
     "text": [
      "this is python's class\n"
     ]
    }
   ],
   "source": [
    "s = 'this is python\\'s class'\n",
    "print(s)\n",
    "                 "
   ]
  },
  {
   "cell_type": "code",
   "execution_count": 17,
   "metadata": {},
   "outputs": [
    {
     "name": "stdout",
     "output_type": "stream",
     "text": [
      "this is \"pythons\" class\n"
     ]
    }
   ],
   "source": [
    "s = \"this is \\\"pythons\\\" class\"\n",
    "print(s)"
   ]
  },
  {
   "cell_type": "code",
   "execution_count": 19,
   "metadata": {},
   "outputs": [
    {
     "name": "stdout",
     "output_type": "stream",
     "text": [
      "abc\bd\n",
      "ab\bc\n"
     ]
    }
   ],
   "source": [
    "# \\b - backspace\n",
    "\n",
    "print('abc\\bd')\n",
    "\n",
    "print('ab' + '\\b' + 'c')"
   ]
  },
  {
   "cell_type": "code",
   "execution_count": 21,
   "metadata": {},
   "outputs": [
    {
     "name": "stdout",
     "output_type": "stream",
     "text": [
      "hello\r",
      "wor\n"
     ]
    }
   ],
   "source": [
    "# \\r - carriage return   left\\rright\n",
    "\n",
    "text = 'hello\\rafsaan'\n",
    "text = 'hello\\rwor'\n",
    "\n",
    "\n",
    "print(text)"
   ]
  },
  {
   "cell_type": "code",
   "execution_count": 24,
   "metadata": {},
   "outputs": [
    {
     "name": "stdout",
     "output_type": "stream",
     "text": [
      "hello\tworld\n"
     ]
    }
   ],
   "source": [
    "# \\t - tab\n",
    "\n",
    "text = 'hello\\tworld'\n",
    "print(text)"
   ]
  },
  {
   "cell_type": "code",
   "execution_count": 26,
   "metadata": {},
   "outputs": [
    {
     "name": "stdout",
     "output_type": "stream",
     "text": [
      "python\\nclass\n",
      "python\\nclass\n"
     ]
    }
   ],
   "source": [
    "# r - RAW string\n",
    "\n",
    "a = r'python\\nclass'\n",
    "print(a)\n",
    "\n",
    "a = 'python\\\\nclass'\n",
    "print(a)"
   ]
  },
  {
   "cell_type": "code",
   "execution_count": 28,
   "metadata": {},
   "outputs": [
    {
     "name": "stdout",
     "output_type": "stream",
     "text": [
      "False\n",
      "True\n",
      "False\n",
      "False\n",
      "------------------------------\n",
      "True\n",
      "False\n",
      "False\n",
      "False\n",
      "------------------------------\n",
      "False\n",
      "False\n",
      "False\n",
      "False\n"
     ]
    }
   ],
   "source": [
    "s1 = 'abc'\n",
    "s2 = 'ABC'\n",
    "s3 = '*'\n",
    "s4 = '112'\n",
    "\n",
    "# isupper\n",
    "print(s1.isupper())\n",
    "print(s2.isupper())\n",
    "print(s3.isupper())\n",
    "print(s4.isupper())\n",
    "\n",
    "print('-'*30)\n",
    "# islower\n",
    "print(s1.islower())\n",
    "print(s2.islower())\n",
    "print(s3.islower())\n",
    "print(s4.islower())\n",
    "\n",
    "print('-'*30)\n",
    "\n",
    "# istitle\n",
    "print(s1.istitle())\n",
    "print(s2.istitle())\n",
    "print(s3.istitle())\n",
    "print(s4.istitle())"
   ]
  },
  {
   "cell_type": "code",
   "execution_count": 35,
   "metadata": {},
   "outputs": [
    {
     "name": "stdout",
     "output_type": "stream",
     "text": [
      "  python   10\n",
      "python 6\n",
      "python 6\n",
      "python 6\n",
      "python     10\n",
      "python 6\n",
      "------------------------------\n",
      "  python   10\n",
      "python 8\n",
      "      python   14\n",
      "python 8\n"
     ]
    }
   ],
   "source": [
    "# stri , rstrip , lstrip\n",
    "# removs the specified character from the ends\n",
    "\n",
    "# strip - removes the sepecified char from both the ends (defautl is space)\n",
    "a = '  python  '\n",
    "print(a , len(a))\n",
    "print(a.strip() , len(a.strip()))\n",
    "\n",
    "a = 'python'\n",
    "print(a , len(a))\n",
    "print(a.strip() , len(a.strip()))\n",
    "\n",
    "a = 'python    '\n",
    "print(a , len(a))\n",
    "print(a.strip() , len(a.strip()))\n",
    "\n",
    "\n",
    "print('-'*30)\n",
    "# rstrip - removes the sepecified char from right ends (defautl is space)\n",
    "a = '  python  '\n",
    "print(a , len(a))\n",
    "print(a.strip() , len(a.rstrip()))\n",
    "\n",
    "\n",
    "# lstrip - removes the sepecified char from right ends (defautl is space)\n",
    "a = '      python  '\n",
    "print(a , len(a))\n",
    "print(a.strip() , len(a.lstrip()))"
   ]
  },
  {
   "cell_type": "code",
   "execution_count": 43,
   "metadata": {},
   "outputs": [
    {
     "data": {
      "text/plain": [
       "'python'"
      ]
     },
     "execution_count": 43,
     "metadata": {},
     "output_type": "execute_result"
    }
   ],
   "source": [
    "a = '**python**'\n",
    "a.strip('*')\n",
    "\n",
    "# a = '**python**'\n",
    "# a.rstrip('*')\n",
    "\n",
    "# a = '**python**'\n",
    "# a.lstrip('*')"
   ]
  },
  {
   "cell_type": "code",
   "execution_count": 46,
   "metadata": {},
   "outputs": [
    {
     "name": "stdout",
     "output_type": "stream",
     "text": [
      "please eneter your usernamekhanafsaan11@gmail.com \n",
      "please enter your passwordafsan\n",
      "logged in\n"
     ]
    }
   ],
   "source": [
    "username = input('please eneter your username')\n",
    "password = input('please enter your password')\n",
    "\n",
    "if username.strip() == 'khanafsaan11@gmail.com' and password.strip() == 'afsan':\n",
    "    print('logged in')\n",
    "else:\n",
    "    print('invalid credentials')"
   ]
  },
  {
   "cell_type": "code",
   "execution_count": 49,
   "metadata": {},
   "outputs": [
    {
     "data": {
      "text/plain": [
       "1"
      ]
     },
     "execution_count": 49,
     "metadata": {},
     "output_type": "execute_result"
    }
   ],
   "source": [
    "# count\n",
    "\n",
    "my_str = \"afsaan loves to play football\"\n",
    "my_str.count('to')"
   ]
  },
  {
   "cell_type": "code",
   "execution_count": 53,
   "metadata": {},
   "outputs": [
    {
     "name": "stdout",
     "output_type": "stream",
     "text": [
      "3\n",
      "26\n",
      "3\n",
      "26\n"
     ]
    }
   ],
   "source": [
    "# find , rfind , index , rindex - this methods tells the starting index of the specified char\n",
    "\n",
    "\n",
    "# find\n",
    "my_str = \"Afsaan loves to play football\"\n",
    "print(my_str.find('a'))\n",
    "\n",
    "# rfind\n",
    "my_str = \"Afsaan loves to play football\"\n",
    "print(my_str.rfind('a'))\n",
    "\n",
    "\n",
    "# index\n",
    "my_str = \"Afsaan loves to play football\"\n",
    "print(my_str.index('a'))\n",
    "\n",
    "# rindex\n",
    "my_str = \"Afsaan loves to play football\"\n",
    "print(my_str.rindex('a'))"
   ]
  },
  {
   "cell_type": "code",
   "execution_count": 54,
   "metadata": {},
   "outputs": [
    {
     "name": "stdout",
     "output_type": "stream",
     "text": [
      "-1\n"
     ]
    },
    {
     "ename": "ValueError",
     "evalue": "substring not found",
     "output_type": "error",
     "traceback": [
      "\u001b[0;31m---------------------------------------------------------------------------\u001b[0m",
      "\u001b[0;31mValueError\u001b[0m                                Traceback (most recent call last)",
      "\u001b[0;32m<ipython-input-54-716feab9cf7e>\u001b[0m in \u001b[0;36m<module>\u001b[0;34m\u001b[0m\n\u001b[1;32m      9\u001b[0m \u001b[0;31m# index\u001b[0m\u001b[0;34m\u001b[0m\u001b[0;34m\u001b[0m\u001b[0;34m\u001b[0m\u001b[0m\n\u001b[1;32m     10\u001b[0m \u001b[0mmy_str\u001b[0m \u001b[0;34m=\u001b[0m \u001b[0;34m\"Afsaan loves to play football\"\u001b[0m\u001b[0;34m\u001b[0m\u001b[0;34m\u001b[0m\u001b[0m\n\u001b[0;32m---> 11\u001b[0;31m \u001b[0mprint\u001b[0m\u001b[0;34m(\u001b[0m\u001b[0mmy_str\u001b[0m\u001b[0;34m.\u001b[0m\u001b[0mindex\u001b[0m\u001b[0;34m(\u001b[0m\u001b[0;34m'z'\u001b[0m\u001b[0;34m)\u001b[0m\u001b[0;34m)\u001b[0m\u001b[0;34m\u001b[0m\u001b[0;34m\u001b[0m\u001b[0m\n\u001b[0m",
      "\u001b[0;31mValueError\u001b[0m: substring not found"
     ]
    }
   ],
   "source": [
    "# Note - the only difference between find and index is if the chara is not present \n",
    "# find gives -1 and index rasie and error\n",
    "\n",
    "# find\n",
    "my_str = \"Afsaan loves to play football\"\n",
    "print(my_str.find('z'))\n",
    "\n",
    "\n",
    "# index\n",
    "my_str = \"Afsaan loves to play football\"\n",
    "print(my_str.index('z'))"
   ]
  },
  {
   "cell_type": "code",
   "execution_count": 67,
   "metadata": {},
   "outputs": [
    {
     "name": "stdout",
     "output_type": "stream",
     "text": [
      "world afsan                helloword\n",
      "world                afsan helloword\n"
     ]
    }
   ],
   "source": [
    "# ljust(left adjustment)  rjust(right adjustment)\n",
    "\n",
    "text = 'afsan'\n",
    "print('world', text.ljust(20), 'helloword')\n",
    "\n",
    "\n",
    "text = 'afsan'\n",
    "print('world' , text.rjust(20), 'helloword')"
   ]
  },
  {
   "cell_type": "code",
   "execution_count": 59,
   "metadata": {},
   "outputs": [
    {
     "name": "stdout",
     "output_type": "stream",
     "text": [
      "Afsaan loves is play football\n"
     ]
    }
   ],
   "source": [
    "# replace\n",
    "\n",
    "my_str = \"Afsaan loves to play football\"\n",
    "print(my_str.replace('to' , 'is'))"
   ]
  },
  {
   "cell_type": "code",
   "execution_count": 62,
   "metadata": {},
   "outputs": [
    {
     "data": {
      "text/plain": [
       "['Afs', '', 'n loves to pl', 'y footb', 'll']"
      ]
     },
     "execution_count": 62,
     "metadata": {},
     "output_type": "execute_result"
    }
   ],
   "source": [
    "# split - convert the string datatype to list data type\n",
    "\n",
    "my_str = \"Afsaan loves to play football\"\n",
    "my_str.split() # deafult is space\n",
    "\n",
    "my_str = \"Afsaan loves to play football\"\n",
    "my_str.split('a') # deafult is space"
   ]
  },
  {
   "cell_type": "code",
   "execution_count": 65,
   "metadata": {},
   "outputs": [
    {
     "data": {
      "text/plain": [
       "'this-->is-->python'"
      ]
     },
     "execution_count": 65,
     "metadata": {},
     "output_type": "execute_result"
    }
   ],
   "source": [
    "# join - converts the list bac to string\n",
    "\n",
    "list_1 = ['this' , 'is' , 'python']\n",
    "\n",
    "\"-->\".join(list_1)"
   ]
  },
  {
   "cell_type": "code",
   "execution_count": 66,
   "metadata": {},
   "outputs": [
    {
     "data": {
      "text/plain": [
       "['__add__',\n",
       " '__class__',\n",
       " '__contains__',\n",
       " '__delattr__',\n",
       " '__dir__',\n",
       " '__doc__',\n",
       " '__eq__',\n",
       " '__format__',\n",
       " '__ge__',\n",
       " '__getattribute__',\n",
       " '__getitem__',\n",
       " '__getnewargs__',\n",
       " '__gt__',\n",
       " '__hash__',\n",
       " '__init__',\n",
       " '__init_subclass__',\n",
       " '__iter__',\n",
       " '__le__',\n",
       " '__len__',\n",
       " '__lt__',\n",
       " '__mod__',\n",
       " '__mul__',\n",
       " '__ne__',\n",
       " '__new__',\n",
       " '__reduce__',\n",
       " '__reduce_ex__',\n",
       " '__repr__',\n",
       " '__rmod__',\n",
       " '__rmul__',\n",
       " '__setattr__',\n",
       " '__sizeof__',\n",
       " '__str__',\n",
       " '__subclasshook__',\n",
       " 'capitalize',\n",
       " 'casefold',\n",
       " 'center',\n",
       " 'count',\n",
       " 'encode',\n",
       " 'endswith',\n",
       " 'expandtabs',\n",
       " 'find',\n",
       " 'format',\n",
       " 'format_map',\n",
       " 'index',\n",
       " 'isalnum',\n",
       " 'isalpha',\n",
       " 'isascii',\n",
       " 'isdecimal',\n",
       " 'isdigit',\n",
       " 'isidentifier',\n",
       " 'islower',\n",
       " 'isnumeric',\n",
       " 'isprintable',\n",
       " 'isspace',\n",
       " 'istitle',\n",
       " 'isupper',\n",
       " 'join',\n",
       " 'ljust',\n",
       " 'lower',\n",
       " 'lstrip',\n",
       " 'maketrans',\n",
       " 'partition',\n",
       " 'replace',\n",
       " 'rfind',\n",
       " 'rindex',\n",
       " 'rjust',\n",
       " 'rpartition',\n",
       " 'rsplit',\n",
       " 'rstrip',\n",
       " 'split',\n",
       " 'splitlines',\n",
       " 'startswith',\n",
       " 'strip',\n",
       " 'swapcase',\n",
       " 'title',\n",
       " 'translate',\n",
       " 'upper',\n",
       " 'zfill']"
      ]
     },
     "execution_count": 66,
     "metadata": {},
     "output_type": "execute_result"
    }
   ],
   "source": [
    "dir(str)"
   ]
  },
  {
   "cell_type": "markdown",
   "metadata": {},
   "source": [
    "# list\n",
    "\n",
    "anything that can be wriiten inside a sqaure brackets and elements are sep by commas"
   ]
  },
  {
   "cell_type": "code",
   "execution_count": 68,
   "metadata": {},
   "outputs": [
    {
     "name": "stdout",
     "output_type": "stream",
     "text": [
      "[1, 2, 3, 4, 5, 6] <class 'list'>\n"
     ]
    }
   ],
   "source": [
    "a  = [1, 2, 3, 4, 5, 6]\n",
    "\n",
    "print(a , type(a))"
   ]
  },
  {
   "cell_type": "markdown",
   "metadata": {},
   "source": [
    "# Creation of a list"
   ]
  },
  {
   "cell_type": "code",
   "execution_count": 69,
   "metadata": {},
   "outputs": [
    {
     "name": "stdout",
     "output_type": "stream",
     "text": [
      "['apple', 'mango', 'orange']\n"
     ]
    }
   ],
   "source": [
    "# 1. you already know the element\n",
    "\n",
    "list1 = ['apple' , 'mango' , 'orange']\n",
    "print(list1)"
   ]
  },
  {
   "cell_type": "code",
   "execution_count": 71,
   "metadata": {},
   "outputs": [
    {
     "name": "stdout",
     "output_type": "stream",
     "text": [
      "enetr the list[1,2,3,4,5]\n",
      "[1, 2, 3, 4, 5] <class 'list'>\n"
     ]
    }
   ],
   "source": [
    "# 2 . taking the user input\n",
    "\n",
    "list1 = eval(input('enetr the list'))\n",
    "print(list1 , type(list1))"
   ]
  },
  {
   "cell_type": "code",
   "execution_count": 74,
   "metadata": {},
   "outputs": [
    {
     "data": {
      "text/plain": [
       "[1, 2, 3]"
      ]
     },
     "execution_count": 74,
     "metadata": {},
     "output_type": "execute_result"
    }
   ],
   "source": [
    "# 3. type casting - you can only convert seq data type to list data type\n",
    "\n",
    "# a = '2'\n",
    "# list(a)\n",
    "\n",
    "a = 'abc'\n",
    "list(a)\n",
    "\n",
    "a = (1,2,3)\n",
    "list(a)"
   ]
  },
  {
   "cell_type": "code",
   "execution_count": 75,
   "metadata": {},
   "outputs": [
    {
     "data": {
      "text/plain": [
       "['python', 'class']"
      ]
     },
     "execution_count": 75,
     "metadata": {},
     "output_type": "execute_result"
    }
   ],
   "source": [
    "# 4. using split \n",
    "\n",
    "a = 'python class'\n",
    "a.split()"
   ]
  },
  {
   "cell_type": "code",
   "execution_count": null,
   "metadata": {},
   "outputs": [],
   "source": [
    "# Properties of list\n",
    "\n",
    "1. seq data type\n",
    "2. suports +ve and -ve indexing\n",
    "3. mutable\n",
    "4. allows duplicate element\n",
    "5. it can store diff data types\n",
    "6. basic op - indexing , slicing , concatination , repetion , identity, memebrship"
   ]
  },
  {
   "cell_type": "code",
   "execution_count": 76,
   "metadata": {},
   "outputs": [
    {
     "data": {
      "text/plain": [
       "8"
      ]
     },
     "execution_count": 76,
     "metadata": {},
     "output_type": "execute_result"
    }
   ],
   "source": [
    "# 1. seq data type\n",
    "# 2. suports +ve and -ve indexing\n",
    "# indexing , slicing\n",
    "\n",
    "a = [1,2,3,4,5,6,7,8]\n",
    "a[-1]\n",
    "a[3]"
   ]
  },
  {
   "cell_type": "code",
   "execution_count": 77,
   "metadata": {},
   "outputs": [
    {
     "data": {
      "text/plain": [
       "[8, 7, 6, 5, 4, 3, 2, 1]"
      ]
     },
     "execution_count": 77,
     "metadata": {},
     "output_type": "execute_result"
    }
   ],
   "source": [
    "a[::-1]"
   ]
  },
  {
   "cell_type": "code",
   "execution_count": 78,
   "metadata": {},
   "outputs": [
    {
     "data": {
      "text/plain": [
       "[]"
      ]
     },
     "execution_count": 78,
     "metadata": {},
     "output_type": "execute_result"
    }
   ],
   "source": [
    "a[1:5:-1]"
   ]
  },
  {
   "cell_type": "code",
   "execution_count": 79,
   "metadata": {},
   "outputs": [
    {
     "data": {
      "text/plain": [
       "[]"
      ]
     },
     "execution_count": 79,
     "metadata": {},
     "output_type": "execute_result"
    }
   ],
   "source": [
    "a[-7:4:-1]"
   ]
  },
  {
   "cell_type": "code",
   "execution_count": 80,
   "metadata": {},
   "outputs": [
    {
     "name": "stdout",
     "output_type": "stream",
     "text": [
      "[1, 1, 1, 1, 1, 1, 1, 1, 1, 1, 1]\n"
     ]
    }
   ],
   "source": [
    "# 4. allows duplicate element\n",
    "\n",
    "a = [1,1,1,1,1,1,1,1,1,1,1]\n",
    "print(a)"
   ]
  },
  {
   "cell_type": "code",
   "execution_count": 81,
   "metadata": {},
   "outputs": [
    {
     "name": "stdout",
     "output_type": "stream",
     "text": [
      "['afsaan', True, (6+7j), None, 1, 1.2]\n"
     ]
    }
   ],
   "source": [
    "# 5. it can store diff data types\n",
    "\n",
    "a = ['afsaan' , True , 6+7j , None , 1 , 1.2]\n",
    "print(a)"
   ]
  },
  {
   "cell_type": "code",
   "execution_count": 82,
   "metadata": {},
   "outputs": [
    {
     "name": "stdout",
     "output_type": "stream",
     "text": [
      "[1, 2, 3, 4, 4, 5, 6, 7]\n"
     ]
    }
   ],
   "source": [
    "# concatination \n",
    "\n",
    "\"\"\"\n",
    "op - +\n",
    "operands - both the operand should be a list\n",
    "\"\"\"\n",
    "a = [1,2,3,4]\n",
    "b = [4,5,6,7]\n",
    "\n",
    "print(a+b)"
   ]
  },
  {
   "cell_type": "code",
   "execution_count": 83,
   "metadata": {},
   "outputs": [
    {
     "name": "stdout",
     "output_type": "stream",
     "text": [
      "[1, 2, 3, 4, 1, 2, 3, 4, 1, 2, 3, 4]\n"
     ]
    }
   ],
   "source": [
    "# , repetion \n",
    "\n",
    "\"\"\"\n",
    "op - *\n",
    "operands - one should be list and other should be int\n",
    "\"\"\"\n",
    "a = [1,2,3,4]\n",
    "b = 3\n",
    "\n",
    "print(a*b)"
   ]
  },
  {
   "cell_type": "code",
   "execution_count": 86,
   "metadata": {},
   "outputs": [
    {
     "name": "stdout",
     "output_type": "stream",
     "text": [
      "94366875426112\n",
      "94366875426112\n",
      "False\n"
     ]
    }
   ],
   "source": [
    "# , identity\n",
    "\n",
    "\"\"\"\n",
    "- check if the address of the two object is same or not\n",
    "op - is and is not\n",
    "return - Boolean value\n",
    "\n",
    "\"\"\"\n",
    "\n",
    "list1 = [1,2,3]\n",
    "list2 = [1,2,3]\n",
    "\n",
    "\n",
    "print(id(list1))\n",
    "print(id(list2))\n",
    "\n",
    "print(list1 is list2)"
   ]
  },
  {
   "cell_type": "code",
   "execution_count": 88,
   "metadata": {},
   "outputs": [
    {
     "name": "stdout",
     "output_type": "stream",
     "text": [
      "False\n",
      "False\n"
     ]
    }
   ],
   "source": [
    "# , memebrship\n",
    "\n",
    "\"\"\"\n",
    "check if the sub seq is present in the main seq or not\n",
    "op - in and not in\n",
    "return - boolean\n",
    "\n",
    "\"\"\"\n",
    "\n",
    "a = ['afsaan' , 'khan' , 100 , 11.2]\n",
    "\n",
    "print('af' in a)\n",
    "\n",
    "a = ['afsaan' , 'khan' , 100 , 11.2]\n",
    "\n",
    "print('khan' not in a)"
   ]
  },
  {
   "cell_type": "code",
   "execution_count": 90,
   "metadata": {},
   "outputs": [
    {
     "name": "stdout",
     "output_type": "stream",
     "text": [
      "[1, 2, 3, 4, 5]\n",
      "[100, 2, 3, 4, 5]\n"
     ]
    }
   ],
   "source": [
    "# mutable\n",
    "\n",
    "a = [1,2,3,4,5]\n",
    "print(a)\n",
    "a[0] = 100\n",
    "print(a)"
   ]
  },
  {
   "cell_type": "code",
   "execution_count": 91,
   "metadata": {},
   "outputs": [
    {
     "data": {
      "text/plain": [
       "[100, 2, 3, 4, 5]"
      ]
     },
     "execution_count": 91,
     "metadata": {},
     "output_type": "execute_result"
    }
   ],
   "source": [
    "a"
   ]
  },
  {
   "cell_type": "code",
   "execution_count": 92,
   "metadata": {},
   "outputs": [
    {
     "name": "stdout",
     "output_type": "stream",
     "text": [
      "[[1, 2, 3, 4], 'afsaan', [100, 200, [6, 7]], [4, 6]]\n"
     ]
    }
   ],
   "source": [
    "# Nesting list\n",
    "\n",
    "\"\"\"\n",
    "list inside a list\n",
    "\"\"\"\n",
    "\n",
    "a = [[1,2,3,4] , 'afsaan' , [100,200 , [6,7]] , [4,6]]\n",
    "print(a)"
   ]
  },
  {
   "cell_type": "code",
   "execution_count": 94,
   "metadata": {},
   "outputs": [
    {
     "data": {
      "text/plain": [
       "6"
      ]
     },
     "execution_count": 94,
     "metadata": {},
     "output_type": "execute_result"
    }
   ],
   "source": [
    "a[-1][-1]"
   ]
  },
  {
   "cell_type": "code",
   "execution_count": 95,
   "metadata": {},
   "outputs": [
    {
     "data": {
      "text/plain": [
       "[4, 3, 2, 1]"
      ]
     },
     "execution_count": 95,
     "metadata": {},
     "output_type": "execute_result"
    }
   ],
   "source": [
    "a[0][::-1]"
   ]
  },
  {
   "cell_type": "code",
   "execution_count": null,
   "metadata": {},
   "outputs": [],
   "source": [
    "a[1][-1]"
   ]
  },
  {
   "cell_type": "code",
   "execution_count": 97,
   "metadata": {},
   "outputs": [
    {
     "name": "stdout",
     "output_type": "stream",
     "text": [
      "[[1, 2, 4], [5, 6, 7], [8, [9, 10, ['a', 'b']]]]\n"
     ]
    }
   ],
   "source": [
    "a = [[1,2,4] , [5,6,7] , [8,[9,10,['a','b']]]]\n",
    "print(a)"
   ]
  },
  {
   "cell_type": "code",
   "execution_count": 98,
   "metadata": {},
   "outputs": [
    {
     "data": {
      "text/plain": [
       "'b'"
      ]
     },
     "execution_count": 98,
     "metadata": {},
     "output_type": "execute_result"
    }
   ],
   "source": [
    "a[-1][-1][-1][-1] "
   ]
  },
  {
   "cell_type": "code",
   "execution_count": 99,
   "metadata": {},
   "outputs": [
    {
     "data": {
      "text/plain": [
       "'b'"
      ]
     },
     "execution_count": 99,
     "metadata": {},
     "output_type": "execute_result"
    }
   ],
   "source": [
    "a[2][1][2][1] "
   ]
  },
  {
   "cell_type": "code",
   "execution_count": 100,
   "metadata": {},
   "outputs": [
    {
     "ename": "IndexError",
     "evalue": "list index out of range",
     "output_type": "error",
     "traceback": [
      "\u001b[0;31m---------------------------------------------------------------------------\u001b[0m",
      "\u001b[0;31mIndexError\u001b[0m                                Traceback (most recent call last)",
      "\u001b[0;32m<ipython-input-100-87ce281400ba>\u001b[0m in \u001b[0;36m<module>\u001b[0;34m\u001b[0m\n\u001b[0;32m----> 1\u001b[0;31m \u001b[0ma\u001b[0m\u001b[0;34m[\u001b[0m\u001b[0;36m3\u001b[0m\u001b[0;34m]\u001b[0m\u001b[0;34m[\u001b[0m\u001b[0;36m3\u001b[0m\u001b[0;34m]\u001b[0m\u001b[0;34m[\u001b[0m\u001b[0;36m3\u001b[0m\u001b[0;34m]\u001b[0m\u001b[0;34m\u001b[0m\u001b[0;34m\u001b[0m\u001b[0m\n\u001b[0m",
      "\u001b[0;31mIndexError\u001b[0m: list index out of range"
     ]
    }
   ],
   "source": [
    "a[3][3][3] "
   ]
  },
  {
   "cell_type": "code",
   "execution_count": 101,
   "metadata": {},
   "outputs": [
    {
     "ename": "IndexError",
     "evalue": "list index out of range",
     "output_type": "error",
     "traceback": [
      "\u001b[0;31m---------------------------------------------------------------------------\u001b[0m",
      "\u001b[0;31mIndexError\u001b[0m                                Traceback (most recent call last)",
      "\u001b[0;32m<ipython-input-101-6c9e2134c741>\u001b[0m in \u001b[0;36m<module>\u001b[0;34m\u001b[0m\n\u001b[0;32m----> 1\u001b[0;31m \u001b[0ma\u001b[0m\u001b[0;34m[\u001b[0m\u001b[0;36m2\u001b[0m\u001b[0;34m]\u001b[0m\u001b[0;34m[\u001b[0m\u001b[0;36m2\u001b[0m\u001b[0;34m]\u001b[0m\u001b[0;34m[\u001b[0m\u001b[0;36m1\u001b[0m\u001b[0;34m]\u001b[0m\u001b[0;34m\u001b[0m\u001b[0;34m\u001b[0m\u001b[0m\n\u001b[0m",
      "\u001b[0;31mIndexError\u001b[0m: list index out of range"
     ]
    }
   ],
   "source": [
    "a[2][2][1] "
   ]
  },
  {
   "cell_type": "code",
   "execution_count": 106,
   "metadata": {},
   "outputs": [
    {
     "name": "stdout",
     "output_type": "stream",
     "text": [
      "[[1, 2, 4], [5, 6, 7], [8, [9, 10, ['a', 'b']]]]\n"
     ]
    },
    {
     "data": {
      "text/plain": [
       "'b'"
      ]
     },
     "execution_count": 106,
     "metadata": {},
     "output_type": "execute_result"
    }
   ],
   "source": [
    "a = [[1,2,4] , [5,6,7] , [8,[9,10,['a','b']]]]\n",
    "print(a)\n",
    "a[2][1][2][1]"
   ]
  },
  {
   "cell_type": "code",
   "execution_count": 107,
   "metadata": {},
   "outputs": [
    {
     "data": {
      "text/plain": [
       "['__add__',\n",
       " '__class__',\n",
       " '__contains__',\n",
       " '__delattr__',\n",
       " '__delitem__',\n",
       " '__dir__',\n",
       " '__doc__',\n",
       " '__eq__',\n",
       " '__format__',\n",
       " '__ge__',\n",
       " '__getattribute__',\n",
       " '__getitem__',\n",
       " '__gt__',\n",
       " '__hash__',\n",
       " '__iadd__',\n",
       " '__imul__',\n",
       " '__init__',\n",
       " '__init_subclass__',\n",
       " '__iter__',\n",
       " '__le__',\n",
       " '__len__',\n",
       " '__lt__',\n",
       " '__mul__',\n",
       " '__ne__',\n",
       " '__new__',\n",
       " '__reduce__',\n",
       " '__reduce_ex__',\n",
       " '__repr__',\n",
       " '__reversed__',\n",
       " '__rmul__',\n",
       " '__setattr__',\n",
       " '__setitem__',\n",
       " '__sizeof__',\n",
       " '__str__',\n",
       " '__subclasshook__',\n",
       " 'append',\n",
       " 'clear',\n",
       " 'copy',\n",
       " 'count',\n",
       " 'extend',\n",
       " 'index',\n",
       " 'insert',\n",
       " 'pop',\n",
       " 'remove',\n",
       " 'reverse',\n",
       " 'sort']"
      ]
     },
     "execution_count": 107,
     "metadata": {},
     "output_type": "execute_result"
    }
   ],
   "source": [
    "dir(list)"
   ]
  },
  {
   "cell_type": "code",
   "execution_count": null,
   "metadata": {},
   "outputs": [],
   "source": [
    "\"\"\"\n",
    "'append',\n",
    " 'clear',\n",
    " 'copy',\n",
    " 'count',\n",
    " 'extend',\n",
    " 'index',\n",
    " 'insert',\n",
    " 'pop',\n",
    " 'remove',\n",
    " 'reverse',\n",
    " 'sort'\n",
    "\n",
    "\"\"\""
   ]
  },
  {
   "cell_type": "code",
   "execution_count": null,
   "metadata": {},
   "outputs": [],
   "source": [
    "# Methods to insert elemet in the list\n",
    "\n",
    "1. append\n",
    "2. extent\n",
    "3. insert"
   ]
  },
  {
   "cell_type": "code",
   "execution_count": 114,
   "metadata": {},
   "outputs": [
    {
     "name": "stdout",
     "output_type": "stream",
     "text": [
      "[1, 2, 3, 4]\n",
      "140297309353152\n",
      "[1, 2, 3, 4, [1, 2, 3, 4]]\n",
      "140297309353152\n"
     ]
    }
   ],
   "source": [
    "# 1. append\n",
    "\n",
    "\"\"\"\n",
    "appends an element at the end of the list\n",
    "you can enter one element at a time\n",
    "\n",
    "\"\"\"\n",
    "\n",
    "a = [1,2,3,4]\n",
    "print(a)\n",
    "print(id(a))\n",
    "a.append([1,2,3,4])\n",
    "print(a)\n",
    "print(id(a))\n"
   ]
  },
  {
   "cell_type": "code",
   "execution_count": null,
   "metadata": {},
   "outputs": [],
   "source": [
    "# extend\n",
    "\n",
    "it is similar to concatination in list but concatination returns a new list and extend modifies the list"
   ]
  },
  {
   "cell_type": "code",
   "execution_count": 115,
   "metadata": {},
   "outputs": [
    {
     "name": "stdout",
     "output_type": "stream",
     "text": [
      "[1, 2, 3, 4, 100, 200, 300]\n"
     ]
    }
   ],
   "source": [
    "a = [1,2,3,4]\n",
    "b = [100,200,300]\n",
    "\n",
    "b.extend(a)\n",
    "print(a)"
   ]
  },
  {
   "cell_type": "code",
   "execution_count": 119,
   "metadata": {},
   "outputs": [
    {
     "data": {
      "text/plain": [
       "[100, 200, 300]"
      ]
     },
     "execution_count": 119,
     "metadata": {},
     "output_type": "execute_result"
    }
   ],
   "source": [
    "a = [1,2,3,4]\n",
    "b = [100,200,300]\n",
    "a + b\n",
    "b"
   ]
  },
  {
   "cell_type": "code",
   "execution_count": 121,
   "metadata": {},
   "outputs": [
    {
     "data": {
      "text/plain": [
       "[1, 2, 'afsaan', 3, 4]"
      ]
     },
     "execution_count": 121,
     "metadata": {},
     "output_type": "execute_result"
    }
   ],
   "source": [
    "# insert\n",
    "\n",
    "\"\"\"\n",
    "insert method inserts the value at a particular index\n",
    "- only one element can be inserted at a time\n",
    "\n",
    "syntax = list.insert(index , element)\n",
    "\"\"\"\n",
    "\n",
    "list1 = [1,2,3,4]\n",
    "list1.insert(2 , 'afsaan')\n",
    "list1"
   ]
  },
  {
   "cell_type": "code",
   "execution_count": null,
   "metadata": {},
   "outputs": [],
   "source": [
    "# removing the elements from the list\n",
    "\n",
    "1. pop\n",
    "2. remove"
   ]
  },
  {
   "cell_type": "code",
   "execution_count": 124,
   "metadata": {},
   "outputs": [
    {
     "data": {
      "text/plain": [
       "[1, 2, 4, 5]"
      ]
     },
     "execution_count": 124,
     "metadata": {},
     "output_type": "execute_result"
    }
   ],
   "source": [
    "# pop\n",
    "\n",
    "\"\"\"\n",
    "removes the element by index\n",
    "pop() be default removes the last element\n",
    "it is the only method that returns the value that is popped\n",
    "synatx = list.pop(index)\n",
    "\n",
    "\"\"\"\n",
    "\n",
    "list1 = [1,2,3,4,5]\n",
    "list1.pop()\n",
    "list1\n",
    "\n",
    "list1 = [1,2,3,4,5]\n",
    "list1.pop(2)\n",
    "list1"
   ]
  },
  {
   "cell_type": "code",
   "execution_count": 128,
   "metadata": {},
   "outputs": [
    {
     "ename": "ValueError",
     "evalue": "list.remove(x): x not in list",
     "output_type": "error",
     "traceback": [
      "\u001b[0;31m---------------------------------------------------------------------------\u001b[0m",
      "\u001b[0;31mValueError\u001b[0m                                Traceback (most recent call last)",
      "\u001b[0;32m<ipython-input-128-cfc5de32827a>\u001b[0m in \u001b[0;36m<module>\u001b[0;34m\u001b[0m\n\u001b[1;32m      8\u001b[0m \u001b[0mlist1\u001b[0m \u001b[0;34m=\u001b[0m \u001b[0;34m[\u001b[0m\u001b[0;36m1\u001b[0m\u001b[0;34m,\u001b[0m\u001b[0;36m1\u001b[0m\u001b[0;34m,\u001b[0m\u001b[0;36m1\u001b[0m\u001b[0;34m,\u001b[0m\u001b[0;36m10\u001b[0m\u001b[0;34m,\u001b[0m\u001b[0;36m10\u001b[0m\u001b[0;34m,\u001b[0m\u001b[0;36m20\u001b[0m\u001b[0;34m,\u001b[0m\u001b[0;36m20\u001b[0m\u001b[0;34m,\u001b[0m\u001b[0;36m20\u001b[0m\u001b[0;34m,\u001b[0m\u001b[0;36m20\u001b[0m\u001b[0;34m]\u001b[0m\u001b[0;34m\u001b[0m\u001b[0;34m\u001b[0m\u001b[0m\n\u001b[1;32m      9\u001b[0m \u001b[0mlist1\u001b[0m\u001b[0;34m.\u001b[0m\u001b[0mremove\u001b[0m\u001b[0;34m(\u001b[0m\u001b[0;36m10\u001b[0m\u001b[0;34m)\u001b[0m\u001b[0;34m\u001b[0m\u001b[0;34m\u001b[0m\u001b[0m\n\u001b[0;32m---> 10\u001b[0;31m \u001b[0mlist1\u001b[0m\u001b[0;34m.\u001b[0m\u001b[0mremove\u001b[0m\u001b[0;34m(\u001b[0m\u001b[0;36m100\u001b[0m\u001b[0;34m)\u001b[0m\u001b[0;34m\u001b[0m\u001b[0;34m\u001b[0m\u001b[0m\n\u001b[0m\u001b[1;32m     11\u001b[0m \u001b[0mlist1\u001b[0m\u001b[0;34m\u001b[0m\u001b[0;34m\u001b[0m\u001b[0m\n",
      "\u001b[0;31mValueError\u001b[0m: list.remove(x): x not in list"
     ]
    }
   ],
   "source": [
    "# 2. remove\n",
    "\n",
    "\"\"\"\n",
    "removes the specified value from the list\n",
    "removes the first occurance if the value if repeated\n",
    "\"\"\"\n",
    "\n",
    "list1 = [1,1,1,10,10,20,20,20,20]\n",
    "list1.remove(10)\n",
    "list1.remove(100)\n",
    "list1"
   ]
  },
  {
   "cell_type": "code",
   "execution_count": null,
   "metadata": {},
   "outputs": [],
   "source": []
  }
 ],
 "metadata": {
  "kernelspec": {
   "display_name": "Python 3",
   "language": "python",
   "name": "python3"
  },
  "language_info": {
   "codemirror_mode": {
    "name": "ipython",
    "version": 3
   },
   "file_extension": ".py",
   "mimetype": "text/x-python",
   "name": "python",
   "nbconvert_exporter": "python",
   "pygments_lexer": "ipython3",
   "version": "3.8.5"
  }
 },
 "nbformat": 4,
 "nbformat_minor": 4
}
