{
 "cells": [
  {
   "cell_type": "code",
   "execution_count": null,
   "id": "b53179e7",
   "metadata": {},
   "outputs": [],
   "source": [
    "- key should be unique\n",
    "- key sre immutsble\n",
    "- values are mutable\n",
    "dic is not seq dta type - indexing, slicing ,concatintion, repetition\n",
    "- membership op applies to only keys\n",
    "- identity op id possible\n",
    "- dic is mutable"
   ]
  },
  {
   "cell_type": "code",
   "execution_count": null,
   "id": "c18460c8",
   "metadata": {},
   "outputs": [],
   "source": [
    "# how to create a dic\n",
    "\n",
    "dict([1,2,3])"
   ]
  },
  {
   "cell_type": "code",
   "execution_count": 1,
   "id": "61676a0f",
   "metadata": {},
   "outputs": [
    {
     "data": {
      "text/plain": [
       "['__class__',\n",
       " '__contains__',\n",
       " '__delattr__',\n",
       " '__delitem__',\n",
       " '__dir__',\n",
       " '__doc__',\n",
       " '__eq__',\n",
       " '__format__',\n",
       " '__ge__',\n",
       " '__getattribute__',\n",
       " '__getitem__',\n",
       " '__gt__',\n",
       " '__hash__',\n",
       " '__init__',\n",
       " '__init_subclass__',\n",
       " '__iter__',\n",
       " '__le__',\n",
       " '__len__',\n",
       " '__lt__',\n",
       " '__ne__',\n",
       " '__new__',\n",
       " '__reduce__',\n",
       " '__reduce_ex__',\n",
       " '__repr__',\n",
       " '__reversed__',\n",
       " '__setattr__',\n",
       " '__setitem__',\n",
       " '__sizeof__',\n",
       " '__str__',\n",
       " '__subclasshook__',\n",
       " 'clear',\n",
       " 'copy',\n",
       " 'fromkeys',\n",
       " 'get',\n",
       " 'items',\n",
       " 'keys',\n",
       " 'pop',\n",
       " 'popitem',\n",
       " 'setdefault',\n",
       " 'update',\n",
       " 'values']"
      ]
     },
     "execution_count": 1,
     "metadata": {},
     "output_type": "execute_result"
    }
   ],
   "source": [
    "dir(dict)"
   ]
  },
  {
   "cell_type": "code",
   "execution_count": null,
   "id": "96c2df68",
   "metadata": {},
   "outputs": [],
   "source": [
    "# methos to add or acess the ele from the dic\n",
    "\n",
    "1. get\n",
    "2. setdeafult\n",
    "3. update"
   ]
  },
  {
   "cell_type": "code",
   "execution_count": 6,
   "id": "16008143",
   "metadata": {},
   "outputs": [
    {
     "name": "stdout",
     "output_type": "stream",
     "text": [
      "None\n"
     ]
    },
    {
     "ename": "TypeError",
     "evalue": "get() takes no keyword arguments",
     "output_type": "error",
     "traceback": [
      "\u001b[0;31m---------------------------------------------------------------------------\u001b[0m",
      "\u001b[0;31mTypeError\u001b[0m                                 Traceback (most recent call last)",
      "\u001b[0;32m<ipython-input-6-2668b5da5479>\u001b[0m in \u001b[0;36m<module>\u001b[0;34m\u001b[0m\n\u001b[1;32m     14\u001b[0m \u001b[0;34m\u001b[0m\u001b[0m\n\u001b[1;32m     15\u001b[0m \u001b[0;31m# we can also customised our own message when key is not present\u001b[0m\u001b[0;34m\u001b[0m\u001b[0;34m\u001b[0m\u001b[0;34m\u001b[0m\u001b[0m\n\u001b[0;32m---> 16\u001b[0;31m \u001b[0mprint\u001b[0m\u001b[0;34m(\u001b[0m\u001b[0memployee_data\u001b[0m\u001b[0;34m.\u001b[0m\u001b[0mget\u001b[0m\u001b[0;34m(\u001b[0m\u001b[0mkey\u001b[0m\u001b[0;34m=\u001b[0m\u001b[0;34m'emp3'\u001b[0m\u001b[0;34m,\u001b[0m \u001b[0mdefault\u001b[0m\u001b[0;34m=\u001b[0m\u001b[0;34m'key is not present'\u001b[0m\u001b[0;34m)\u001b[0m\u001b[0;34m)\u001b[0m\u001b[0;34m\u001b[0m\u001b[0;34m\u001b[0m\u001b[0m\n\u001b[0m",
      "\u001b[0;31mTypeError\u001b[0m: get() takes no keyword arguments"
     ]
    }
   ],
   "source": [
    "# 1. get - if the key is present it returns the value of the key, else default\n",
    "\n",
    "employee_data = {'emp1':{'name':'afsan' , 'age':24},\n",
    "                 'emp2':{'name':'rahul' , 'age':26}}\n",
    "\n",
    "\n",
    "\n",
    "# 1) if key is present\n",
    "employee_data.get('emp1')\n",
    "\n",
    "# 2) if key is not present\n",
    "print(employee_data.get('emp3'))\n",
    "\n",
    "\n",
    "# we can also customised our own message when key is not present\n",
    "print(employee_data.get('emp3', 'key is not present'))\n"
   ]
  },
  {
   "cell_type": "code",
   "execution_count": 15,
   "id": "99bff836",
   "metadata": {},
   "outputs": [
    {
     "name": "stdout",
     "output_type": "stream",
     "text": [
      "None\n",
      "new key\n"
     ]
    }
   ],
   "source": [
    "# 2 setdeafult - \n",
    "# insert the key with the value of the default if key is not present , else return thr valur of the key\n",
    "\n",
    "employee_data = {'emp1':{'name':'afsan' , 'age':24},\n",
    "                 'emp2':{'name':'rahul' , 'age':26}}\n",
    "\n",
    "\n",
    "\n",
    "# 1) if key is present\n",
    "employee_data.setdefault('emp1')\n",
    "\n",
    "# # 2) if key is not present\n",
    "print(employee_data.setdefault('emp3'))\n",
    "\n",
    "\n",
    "# # we can also customised our own message when key is not present\n",
    "print(employee_data.setdefault('emp4', 'new key'))"
   ]
  },
  {
   "cell_type": "code",
   "execution_count": 16,
   "id": "ad5075b8",
   "metadata": {},
   "outputs": [
    {
     "data": {
      "text/plain": [
       "{'emp1': {'name': 'afsan', 'age': 24},\n",
       " 'emp2': {'name': 'rahul', 'age': 26},\n",
       " 'emp3': None,\n",
       " 'emp4': 'new key'}"
      ]
     },
     "execution_count": 16,
     "metadata": {},
     "output_type": "execute_result"
    }
   ],
   "source": [
    "employee_data"
   ]
  },
  {
   "cell_type": "code",
   "execution_count": 17,
   "id": "bc6a2017",
   "metadata": {},
   "outputs": [],
   "source": [
    "# 3. update - it is similar to extend in the list\n",
    "\n",
    "employee_data = {'emp1':{'name':'afsan' , 'age':24},\n",
    "                 'emp2':{'name':'rahul' , 'age':26}}\n",
    "\n",
    "employee_data_2 = {'emp3':{'name':'afsan' , 'age':24},\n",
    "                 'emp4':{'name':'rahul' , 'age':26}}\n",
    "\n",
    "employee_data.update(employee_data_2)"
   ]
  },
  {
   "cell_type": "code",
   "execution_count": 18,
   "id": "8af28c74",
   "metadata": {},
   "outputs": [
    {
     "data": {
      "text/plain": [
       "{'emp1': {'name': 'afsan', 'age': 24},\n",
       " 'emp2': {'name': 'rahul', 'age': 26},\n",
       " 'emp3': {'name': 'afsan', 'age': 24},\n",
       " 'emp4': {'name': 'rahul', 'age': 26}}"
      ]
     },
     "execution_count": 18,
     "metadata": {},
     "output_type": "execute_result"
    }
   ],
   "source": [
    "employee_data"
   ]
  },
  {
   "cell_type": "markdown",
   "id": "c5b5655c",
   "metadata": {},
   "source": [
    "methods to delete the items from the dic\n",
    "\n",
    "1. pop\n",
    "2. popitem"
   ]
  },
  {
   "cell_type": "code",
   "execution_count": 24,
   "id": "8b881f94",
   "metadata": {},
   "outputs": [
    {
     "data": {
      "text/plain": [
       "'key is not presrnt'"
      ]
     },
     "execution_count": 24,
     "metadata": {},
     "output_type": "execute_result"
    }
   ],
   "source": [
    "# 1. pop \n",
    "\"\"\"\n",
    "removes the specified key and returns the corresponding values, if key isd not present , it returns deafult\n",
    "if given otherwise it raises and error\n",
    "\n",
    "\"\"\"\n",
    "\n",
    "employee_data = {'emp1':{'name':'afsan' , 'age':24},\n",
    "                 'emp2':{'name':'rahul' , 'age':26}}\n",
    "\n",
    "\n",
    "# 1. key is der\n",
    "employee_data.pop('emp2')\n",
    "\n",
    "# 2. if key is not preset\n",
    "# employee_data.pop('emp2')\n",
    "employee_data.pop('emp2' , 'key is not presrnt')\n"
   ]
  },
  {
   "cell_type": "code",
   "execution_count": 21,
   "id": "854f91d9",
   "metadata": {},
   "outputs": [
    {
     "data": {
      "text/plain": [
       "{'emp1': {'name': 'afsan', 'age': 24}}"
      ]
     },
     "execution_count": 21,
     "metadata": {},
     "output_type": "execute_result"
    }
   ],
   "source": [
    "employee_data"
   ]
  },
  {
   "cell_type": "code",
   "execution_count": 25,
   "id": "135bf85b",
   "metadata": {},
   "outputs": [
    {
     "data": {
      "text/plain": [
       "('emp2', {'name': 'rahul', 'age': 26})"
      ]
     },
     "execution_count": 25,
     "metadata": {},
     "output_type": "execute_result"
    }
   ],
   "source": [
    "# 2. popitem\n",
    "\n",
    "'''removes and return tuple of key value pair from the last'''\n",
    "\n",
    "employee_data = {'emp1':{'name':'afsan' , 'age':24},\n",
    "                 'emp2':{'name':'rahul' , 'age':26}}\n",
    "\n",
    "employee_data.popitem()"
   ]
  },
  {
   "cell_type": "code",
   "execution_count": 26,
   "id": "0ad1d0ee",
   "metadata": {},
   "outputs": [
    {
     "data": {
      "text/plain": [
       "dict_values([{'name': 'afsan', 'age': 24}, {'name': 'rahul', 'age': 26}])"
      ]
     },
     "execution_count": 26,
     "metadata": {},
     "output_type": "execute_result"
    }
   ],
   "source": [
    "employee_data = {'emp1':{'name':'afsan' , 'age':24},\n",
    "                 'emp2':{'name':'rahul' , 'age':26}}\n",
    "\n",
    "employee_data.values()"
   ]
  },
  {
   "cell_type": "code",
   "execution_count": 27,
   "id": "66bc80a4",
   "metadata": {},
   "outputs": [
    {
     "data": {
      "text/plain": [
       "dict_items([('emp1', {'name': 'afsan', 'age': 24}), ('emp2', {'name': 'rahul', 'age': 26})])"
      ]
     },
     "execution_count": 27,
     "metadata": {},
     "output_type": "execute_result"
    }
   ],
   "source": [
    "employee_data.items()"
   ]
  },
  {
   "cell_type": "code",
   "execution_count": 28,
   "id": "760aa9aa",
   "metadata": {},
   "outputs": [
    {
     "data": {
      "text/plain": [
       "dict_keys(['emp1', 'emp2'])"
      ]
     },
     "execution_count": 28,
     "metadata": {},
     "output_type": "execute_result"
    }
   ],
   "source": [
    "employee_data.keys()"
   ]
  },
  {
   "cell_type": "code",
   "execution_count": 30,
   "id": "a61f822a",
   "metadata": {},
   "outputs": [
    {
     "data": {
      "text/plain": [
       "{'emp1': 'hello', 'emp2': 'hello'}"
      ]
     },
     "execution_count": 30,
     "metadata": {},
     "output_type": "execute_result"
    }
   ],
   "source": [
    "# from keys\n",
    "\n",
    "'''- create a new dic with the keys from the iterables and values set to default'''\n",
    "\n",
    "dict.fromkeys(['emp1', 'emp2'], 'hello')"
   ]
  },
  {
   "cell_type": "code",
   "execution_count": 33,
   "id": "559bf128",
   "metadata": {},
   "outputs": [
    {
     "name": "stdout",
     "output_type": "stream",
     "text": [
      "None\n"
     ]
    }
   ],
   "source": [
    "print(employee_data.clear())"
   ]
  },
  {
   "cell_type": "code",
   "execution_count": 32,
   "id": "dc2d0cf8",
   "metadata": {},
   "outputs": [
    {
     "data": {
      "text/plain": [
       "{}"
      ]
     },
     "execution_count": 32,
     "metadata": {},
     "output_type": "execute_result"
    }
   ],
   "source": [
    "employee_data"
   ]
  },
  {
   "cell_type": "code",
   "execution_count": 34,
   "id": "6bf9293a",
   "metadata": {},
   "outputs": [
    {
     "data": {
      "text/plain": [
       "{0: 0, 1: 2, 2: 4, 3: 6, 4: 8, 5: 10, 6: 12, 7: 14, 8: 16, 9: 18}"
      ]
     },
     "execution_count": 34,
     "metadata": {},
     "output_type": "execute_result"
    }
   ],
   "source": [
    "# dict comp\n",
    "\n",
    "{i:i*2 for i in range(10)}"
   ]
  },
  {
   "cell_type": "code",
   "execution_count": 36,
   "id": "49018a75",
   "metadata": {},
   "outputs": [
    {
     "data": {
      "text/plain": [
       "[1, 3, 5]"
      ]
     },
     "execution_count": 36,
     "metadata": {},
     "output_type": "execute_result"
    }
   ],
   "source": [
    "# range data type\n",
    "\n",
    "\"\"\"\n",
    "widely used in for loop\n",
    "\n",
    "synatx range(start,stop,step)\n",
    "\n",
    "start - incluisve\n",
    "stop - exclusive\n",
    "step - \n",
    "\n",
    "start value deafult will be 0\n",
    "stop can be left empty\n",
    "step  default is 1\n",
    "\n",
    "\"\"\"\n",
    "\n",
    "list(range(1,6,2))"
   ]
  },
  {
   "cell_type": "code",
   "execution_count": 37,
   "id": "55520e12",
   "metadata": {},
   "outputs": [
    {
     "data": {
      "text/plain": [
       "[1, 2, 3, 4, 5]"
      ]
     },
     "execution_count": 37,
     "metadata": {},
     "output_type": "execute_result"
    }
   ],
   "source": [
    "list(range(1,6,1))"
   ]
  },
  {
   "cell_type": "code",
   "execution_count": 38,
   "id": "fd30c8c8",
   "metadata": {},
   "outputs": [
    {
     "data": {
      "text/plain": [
       "[0, 1, 2, 3, 4, 5, 6]"
      ]
     },
     "execution_count": 38,
     "metadata": {},
     "output_type": "execute_result"
    }
   ],
   "source": [
    "list(range(7))"
   ]
  },
  {
   "cell_type": "code",
   "execution_count": 39,
   "id": "6c60e10c",
   "metadata": {},
   "outputs": [
    {
     "ename": "TypeError",
     "evalue": "'set' object is not subscriptable",
     "output_type": "error",
     "traceback": [
      "\u001b[0;31m---------------------------------------------------------------------------\u001b[0m",
      "\u001b[0;31mTypeError\u001b[0m                                 Traceback (most recent call last)",
      "\u001b[0;32m<ipython-input-39-9ad72eba8e20>\u001b[0m in \u001b[0;36m<module>\u001b[0;34m\u001b[0m\n\u001b[1;32m     10\u001b[0m \u001b[0;34m\u001b[0m\u001b[0m\n\u001b[1;32m     11\u001b[0m \u001b[0ma\u001b[0m \u001b[0;34m=\u001b[0m \u001b[0;34m{\u001b[0m\u001b[0;36m1\u001b[0m\u001b[0;34m,\u001b[0m\u001b[0;36m2\u001b[0m\u001b[0;34m,\u001b[0m\u001b[0;36m3\u001b[0m\u001b[0;34m,\u001b[0m\u001b[0;36m4\u001b[0m\u001b[0;34m,\u001b[0m\u001b[0;36m5\u001b[0m\u001b[0;34m,\u001b[0m\u001b[0;36m6\u001b[0m\u001b[0;34m}\u001b[0m\u001b[0;34m\u001b[0m\u001b[0;34m\u001b[0m\u001b[0m\n\u001b[0;32m---> 12\u001b[0;31m \u001b[0ma\u001b[0m\u001b[0;34m[\u001b[0m\u001b[0;36m0\u001b[0m\u001b[0;34m]\u001b[0m\u001b[0;34m\u001b[0m\u001b[0;34m\u001b[0m\u001b[0m\n\u001b[0m",
      "\u001b[0;31mTypeError\u001b[0m: 'set' object is not subscriptable"
     ]
    }
   ],
   "source": [
    "# set data type\n",
    "\n",
    "\"\"\"\n",
    "- colection of values but it is not a seq\n",
    "- indexing n slicing is not possible\n",
    "- collecion of uniqye value\n",
    "- mutable\n",
    "- cannot conatine a mutable object\n",
    "\"\"\"\n",
    "\n",
    "a = {1,2,3,4,5,6}\n",
    "a[0]"
   ]
  },
  {
   "cell_type": "code",
   "execution_count": 40,
   "id": "161422cf",
   "metadata": {},
   "outputs": [
    {
     "data": {
      "text/plain": [
       "{1, 2, 3}"
      ]
     },
     "execution_count": 40,
     "metadata": {},
     "output_type": "execute_result"
    }
   ],
   "source": [
    "a = {1,1,1,2,2,2,3,3,3}\n",
    "a"
   ]
  },
  {
   "cell_type": "code",
   "execution_count": 41,
   "id": "565bb2f0",
   "metadata": {},
   "outputs": [
    {
     "data": {
      "text/plain": [
       "['__and__',\n",
       " '__class__',\n",
       " '__contains__',\n",
       " '__delattr__',\n",
       " '__dir__',\n",
       " '__doc__',\n",
       " '__eq__',\n",
       " '__format__',\n",
       " '__ge__',\n",
       " '__getattribute__',\n",
       " '__gt__',\n",
       " '__hash__',\n",
       " '__iand__',\n",
       " '__init__',\n",
       " '__init_subclass__',\n",
       " '__ior__',\n",
       " '__isub__',\n",
       " '__iter__',\n",
       " '__ixor__',\n",
       " '__le__',\n",
       " '__len__',\n",
       " '__lt__',\n",
       " '__ne__',\n",
       " '__new__',\n",
       " '__or__',\n",
       " '__rand__',\n",
       " '__reduce__',\n",
       " '__reduce_ex__',\n",
       " '__repr__',\n",
       " '__ror__',\n",
       " '__rsub__',\n",
       " '__rxor__',\n",
       " '__setattr__',\n",
       " '__sizeof__',\n",
       " '__str__',\n",
       " '__sub__',\n",
       " '__subclasshook__',\n",
       " '__xor__',\n",
       " 'add',\n",
       " 'clear',\n",
       " 'copy',\n",
       " 'difference',\n",
       " 'difference_update',\n",
       " 'discard',\n",
       " 'intersection',\n",
       " 'intersection_update',\n",
       " 'isdisjoint',\n",
       " 'issubset',\n",
       " 'issuperset',\n",
       " 'pop',\n",
       " 'remove',\n",
       " 'symmetric_difference',\n",
       " 'symmetric_difference_update',\n",
       " 'union',\n",
       " 'update']"
      ]
     },
     "execution_count": 41,
     "metadata": {},
     "output_type": "execute_result"
    }
   ],
   "source": [
    "dir(set)"
   ]
  },
  {
   "cell_type": "code",
   "execution_count": 42,
   "id": "d2494e13",
   "metadata": {},
   "outputs": [],
   "source": [
    "a.clear()"
   ]
  },
  {
   "cell_type": "code",
   "execution_count": 43,
   "id": "67469f50",
   "metadata": {},
   "outputs": [
    {
     "data": {
      "text/plain": [
       "set()"
      ]
     },
     "execution_count": 43,
     "metadata": {},
     "output_type": "execute_result"
    }
   ],
   "source": [
    "a"
   ]
  },
  {
   "cell_type": "code",
   "execution_count": 48,
   "id": "32a053e9",
   "metadata": {},
   "outputs": [
    {
     "ename": "TypeError",
     "evalue": "unhashable type: 'dict'",
     "output_type": "error",
     "traceback": [
      "\u001b[0;31m---------------------------------------------------------------------------\u001b[0m",
      "\u001b[0;31mTypeError\u001b[0m                                 Traceback (most recent call last)",
      "\u001b[0;32m<ipython-input-48-078bf701b327>\u001b[0m in \u001b[0;36m<module>\u001b[0;34m\u001b[0m\n\u001b[0;32m----> 1\u001b[0;31m \u001b[0mz\u001b[0m \u001b[0;34m=\u001b[0m \u001b[0;34m{\u001b[0m\u001b[0;36m1\u001b[0m\u001b[0;34m,\u001b[0m\u001b[0;36m2\u001b[0m\u001b[0;34m,\u001b[0m\u001b[0;36m3\u001b[0m\u001b[0;34m,\u001b[0m\u001b[0;36m4\u001b[0m\u001b[0;34m,\u001b[0m\u001b[0;36m5\u001b[0m\u001b[0;34m,\u001b[0m\u001b[0;34m{\u001b[0m\u001b[0;36m2\u001b[0m\u001b[0;34m:\u001b[0m\u001b[0;36m3\u001b[0m\u001b[0;34m}\u001b[0m\u001b[0;34m}\u001b[0m\u001b[0;34m\u001b[0m\u001b[0;34m\u001b[0m\u001b[0m\n\u001b[0m",
      "\u001b[0;31mTypeError\u001b[0m: unhashable type: 'dict'"
     ]
    }
   ],
   "source": [
    "z = {1,2,3,4,5,{2:3}}"
   ]
  },
  {
   "cell_type": "code",
   "execution_count": 45,
   "id": "28eaa8a4",
   "metadata": {},
   "outputs": [
    {
     "data": {
      "text/plain": [
       "{(1, 2, 3), 1, 2, 3, 4, 5}"
      ]
     },
     "execution_count": 45,
     "metadata": {},
     "output_type": "execute_result"
    }
   ],
   "source": [
    "z"
   ]
  },
  {
   "cell_type": "code",
   "execution_count": 49,
   "id": "8b252451",
   "metadata": {},
   "outputs": [
    {
     "data": {
      "text/plain": [
       "{1, 2, 3, 4, 5, 6}"
      ]
     },
     "execution_count": 49,
     "metadata": {},
     "output_type": "execute_result"
    }
   ],
   "source": [
    "a = [1,1,2,2,3,3,1,1,2,2,3,3,4,4,5,5,6]\n",
    "set(a)"
   ]
  },
  {
   "cell_type": "code",
   "execution_count": null,
   "id": "5800a63d",
   "metadata": {},
   "outputs": [],
   "source": [
    "# conditonal statments\n"
   ]
  },
  {
   "cell_type": "code",
   "execution_count": null,
   "id": "e6b7db19",
   "metadata": {},
   "outputs": [],
   "source": [
    "# if\n",
    "\n",
    "# statment1\n",
    "# statment2\n",
    "# stat3\n",
    "# if cond:\n",
    "#    stat4\n",
    "#    stat5\n",
    "    \n",
    "if cond is true ->>> 1,2,3,4,5\n",
    "if cond is false ->>> 1,2,3"
   ]
  },
  {
   "cell_type": "code",
   "execution_count": null,
   "id": "1ba2e301",
   "metadata": {},
   "outputs": [],
   "source": [
    "# statment1\n",
    "# statment2\n",
    "# stat3\n",
    "# if cond:\n",
    "#    stat4\n",
    "#    stat5\n",
    "# stat6\n",
    "# stat7\n",
    "\n",
    "if cond is true ->>> 1,2,3,4,5\n",
    "if cond is false ->>> 1,2,3"
   ]
  },
  {
   "cell_type": "code",
   "execution_count": null,
   "id": "dd8fd7e2",
   "metadata": {},
   "outputs": [],
   "source": [
    "# if else\n",
    "\n",
    "\n",
    "statment1\n",
    "statment2\n",
    "stat3\n",
    "if cond:\n",
    "   stat4\n",
    "   stat5\n",
    "else:\n",
    "    stat6\n",
    "    stat7\n",
    "stat8\n",
    "stat9\n",
    "\n",
    "if cond is true ->>> 1,2,3,4,5,8,9\n",
    "if cond is false ->>> 1,2,3,6,7,8,9"
   ]
  },
  {
   "cell_type": "code",
   "execution_count": null,
   "id": "aa2e03fc",
   "metadata": {},
   "outputs": [],
   "source": [
    "statment1\n",
    "statment2\n",
    "stat3\n",
    "if cond1:\n",
    "   stat4\n",
    "   stat5\n",
    "if cond2:\n",
    "   stat6\n",
    "   stat7\n",
    "if cond3:\n",
    "   stat8\n",
    "   stat9\n",
    "else:\n",
    "    stat10\n",
    "    stat11\n",
    "stat12\n",
    "stat13\n",
    "\n",
    "if cond 1 and cond 2 is true - 1,2,3,4,5,6,7,10,11,12,13\n",
    "if all are true - 1,2,3,4,5,6,7,8,9,12,13"
   ]
  },
  {
   "cell_type": "code",
   "execution_count": null,
   "id": "b8ec69ce",
   "metadata": {},
   "outputs": [],
   "source": [
    "statment1\n",
    "statment2\n",
    "stat3\n",
    "if cond1:\n",
    "   stat4\n",
    "   stat5\n",
    "else:\n",
    "    stat14\n",
    "    stat15\n",
    "if cond2:\n",
    "   stat6\n",
    "   stat7\n",
    "if cond3:\n",
    "   stat8\n",
    "   stat9\n",
    "else:\n",
    "    stat10\n",
    "    stat11\n",
    "stat12\n",
    "stat13\n",
    "\n",
    "if cond 1 and cond 2 is true - 1,2,3,4,5,6,7,10,11,12,13\n",
    "if all cond are false - 1,2,3,14,15,10,11,12,13"
   ]
  },
  {
   "cell_type": "code",
   "execution_count": null,
   "id": "584593be",
   "metadata": {},
   "outputs": [],
   "source": [
    "# if elif else\n",
    "\n",
    "statment1\n",
    "statment2\n",
    "stat3\n",
    "if cond1:\n",
    "   stat4\n",
    "   stat5\n",
    "elif cond2:\n",
    "   stat6\n",
    "   stat7\n",
    "elif cond3:\n",
    "   stat8\n",
    "   stat9\n",
    "else:\n",
    "    stat10\n",
    "    stat11\n",
    "stat12\n",
    "stat13\n",
    "\n",
    "if cond 1 and cond 2 is true - 1,2,3,4,5,12,13\n",
    "\n",
    "if cond 2 ann 3 are true - 1,2,3,6,7,12,13\n",
    "\n",
    "if all are false - 1,2,3,10,11,12,13"
   ]
  },
  {
   "cell_type": "code",
   "execution_count": null,
   "id": "30a8fed7",
   "metadata": {},
   "outputs": [],
   "source": [
    "statment1\n",
    "statment2\n",
    "stat3\n",
    "if cond1:\n",
    "   stat4\n",
    "   stat5\n",
    "elif cond2:\n",
    "   stat6\n",
    "   stat7\n",
    "elif cond3:\n",
    "   stat8\n",
    "   stat9\n",
    "else:\n",
    "    stat10\n",
    "    stat11\n",
    "stat12\n",
    "stat13"
   ]
  },
  {
   "cell_type": "code",
   "execution_count": 50,
   "id": "818fbd34",
   "metadata": {},
   "outputs": [
    {
     "name": "stdout",
     "output_type": "stream",
     "text": [
      "messi\n",
      "virat\n"
     ]
    }
   ],
   "source": [
    "a = 33\n",
    "b = 333\n",
    "if b>a:\n",
    "    print('messi')\n",
    "print('virat')"
   ]
  },
  {
   "cell_type": "code",
   "execution_count": 51,
   "id": "81470fbc",
   "metadata": {},
   "outputs": [
    {
     "name": "stdout",
     "output_type": "stream",
     "text": [
      "ronaldo\n",
      "virat\n"
     ]
    }
   ],
   "source": [
    "a  =33\n",
    "b = 2\n",
    "if b>a:\n",
    "    print('messi')\n",
    "else:\n",
    "    print('ronaldo')\n",
    "print('virat')"
   ]
  },
  {
   "cell_type": "code",
   "execution_count": 53,
   "id": "b59145c4",
   "metadata": {},
   "outputs": [
    {
     "name": "stdout",
     "output_type": "stream",
     "text": [
      "afsan\n",
      "virat\n"
     ]
    }
   ],
   "source": [
    "a = 200\n",
    "b = 200\n",
    "\n",
    "if b <= a:\n",
    "    print('afsan')\n",
    "elif b == a:\n",
    "    print('messsi')\n",
    "elif a < b:\n",
    "    print('ronaldo')\n",
    "print('virat')"
   ]
  },
  {
   "cell_type": "code",
   "execution_count": 54,
   "id": "3f3653dd",
   "metadata": {},
   "outputs": [
    {
     "name": "stdout",
     "output_type": "stream",
     "text": [
      "hello\n"
     ]
    }
   ],
   "source": [
    "a = 200\n",
    "b = 100\n",
    "c = 700\n",
    "\n",
    "if a>b and c>a:\n",
    "    print('hello')\n",
    "else:\n",
    "    print('world')"
   ]
  },
  {
   "cell_type": "code",
   "execution_count": 55,
   "id": "5b9d5d00",
   "metadata": {},
   "outputs": [
    {
     "data": {
      "text/plain": [
       "True"
      ]
     },
     "execution_count": 55,
     "metadata": {},
     "output_type": "execute_result"
    }
   ],
   "source": [
    "True and True"
   ]
  },
  {
   "cell_type": "code",
   "execution_count": 57,
   "id": "94472e2c",
   "metadata": {},
   "outputs": [
    {
     "name": "stdout",
     "output_type": "stream",
     "text": [
      "depay\n"
     ]
    }
   ],
   "source": [
    "# Nested if - if inside a if\n",
    "\n",
    "x = 14\n",
    "if x > 15:\n",
    "    print('messi')\n",
    "    if x > 25:\n",
    "        print('ronaldo')\n",
    "    else:\n",
    "        print('afsan')\n",
    "else:\n",
    "    if x == 35:\n",
    "        print('salah')\n",
    "    else:\n",
    "        print('depay')"
   ]
  },
  {
   "cell_type": "code",
   "execution_count": null,
   "id": "ac410dd0",
   "metadata": {},
   "outputs": [],
   "source": [
    "4 question\n",
    "\n",
    "1. take a user input from numbers 1 to 4 and give the word form of it - 5\n",
    "\n",
    "1 - one\n",
    "2 - two\n",
    "3 - 3\n",
    "5- sorry number not in specified range\n",
    "\n",
    "# 2. desgin a calculator - 5 min\n",
    "\n",
    "user = 1\n",
    "user = 2\n",
    "op = + , - , / , *\n",
    "\n",
    "\n",
    "# 3. erite a code to find if a year is a leap year or not - research + coding"
   ]
  },
  {
   "cell_type": "code",
   "execution_count": 59,
   "id": "ea0c2993",
   "metadata": {},
   "outputs": [
    {
     "name": "stdout",
     "output_type": "stream",
     "text": [
      "Write an integer number within from number 1-4 ?4\n",
      "Four\n"
     ]
    }
   ],
   "source": [
    "x = eval(input('Write an integer number within from number 1-4 ?')) \n",
    "if(x==1): print('One') \n",
    "elif(x==2): print('Two') \n",
    "elif(x==3): print('Three') \n",
    "elif(x==4): print('Four') \n",
    "else: print('Sorry, the number you entered is not within the specified range') "
   ]
  },
  {
   "cell_type": "code",
   "execution_count": 63,
   "id": "a3a31f24",
   "metadata": {},
   "outputs": [
    {
     "name": "stdout",
     "output_type": "stream",
     "text": [
      "Enter first opreand10\n",
      "Enter second opreand20\n",
      "Enter operator+\n",
      "30\n"
     ]
    }
   ],
   "source": [
    "op1 = int(input(\"Enter first opreand\"))\n",
    "op2 = int(input(\"Enter second opreand\"))\n",
    "opt1 = str(input(\"Enter operator\")).strip()\n",
    "\n",
    "if opt1 == \"+\":\n",
    "    print(op1+op2)\n",
    "elif opt1 == \"-\":\n",
    "    print(op1-op2)\n",
    "elif opt1 == \"*\":\n",
    "    print(op1*op2)\n",
    "elif opt1 == \"/\":\n",
    "    print(op1/op2) "
   ]
  },
  {
   "cell_type": "code",
   "execution_count": null,
   "id": "594de5d8",
   "metadata": {},
   "outputs": [],
   "source": [
    "# loops in python\n",
    "\n",
    "for\n",
    "\n",
    "while"
   ]
  },
  {
   "cell_type": "code",
   "execution_count": null,
   "id": "4e5189db",
   "metadata": {},
   "outputs": [],
   "source": [
    "for var in iterable:\n",
    "    statment1"
   ]
  },
  {
   "cell_type": "code",
   "execution_count": null,
   "id": "eb9b1a2d",
   "metadata": {},
   "outputs": [],
   "source": [
    "to find if object is iterable or not\n",
    "\n",
    "len()\n",
    "or\n",
    "dir(object) - __iter__"
   ]
  },
  {
   "cell_type": "code",
   "execution_count": null,
   "id": "84be30ef",
   "metadata": {},
   "outputs": [],
   "source": [
    "for fixed iteration we use a for loop"
   ]
  },
  {
   "cell_type": "code",
   "execution_count": 64,
   "id": "991d21fc",
   "metadata": {},
   "outputs": [
    {
     "name": "stdout",
     "output_type": "stream",
     "text": [
      "0\n",
      "2\n",
      "4\n",
      "6\n",
      "8\n"
     ]
    }
   ],
   "source": [
    "for i in range(0,10,2):\n",
    "    print(i)"
   ]
  },
  {
   "cell_type": "code",
   "execution_count": null,
   "id": "3043c1d2",
   "metadata": {},
   "outputs": [],
   "source": [
    "# while\n",
    "\n",
    "if we do not know the iteration\n",
    "\n",
    "syntax\n",
    "1. initialization\n",
    "2. condition checking\n",
    "3. inc / dec"
   ]
  },
  {
   "cell_type": "code",
   "execution_count": 65,
   "id": "e180aa44",
   "metadata": {},
   "outputs": [
    {
     "name": "stdout",
     "output_type": "stream",
     "text": [
      "0\n",
      "1\n",
      "2\n",
      "3\n",
      "4\n",
      "5\n",
      "6\n",
      "7\n",
      "8\n",
      "9\n"
     ]
    }
   ],
   "source": [
    "i = 0 # init\n",
    "while i<10:  # conditon\n",
    "    print(i)\n",
    "    i += 1  # inc / dec"
   ]
  },
  {
   "cell_type": "code",
   "execution_count": 67,
   "id": "c5ec53bf",
   "metadata": {},
   "outputs": [
    {
     "name": "stdout",
     "output_type": "stream",
     "text": [
      "0\n",
      "1\n",
      "2\n",
      "3\n",
      "4\n",
      "5\n",
      "6\n",
      "7\n",
      "8\n",
      "9\n"
     ]
    }
   ],
   "source": [
    "i = 0 # init\n",
    "while i<10:  # conditon\n",
    "    print(i)\n",
    "    i += 1  # inc / dec"
   ]
  },
  {
   "cell_type": "code",
   "execution_count": 70,
   "id": "5d838773",
   "metadata": {},
   "outputs": [
    {
     "name": "stdout",
     "output_type": "stream",
     "text": [
      "p\n",
      "yy\n",
      "ttt\n",
      "ooooo\n",
      "nnnnnn\n",
      "p\n",
      "yy\n",
      "ttt\n",
      "hhhh\n",
      "ooooo\n",
      "nnnnnn\n",
      "p\n",
      "yy\n",
      "ttt\n",
      "hhhh\n",
      "ooooo\n",
      "nnnnnn\n"
     ]
    }
   ],
   "source": [
    "#  - python\n",
    "    \n",
    "# p\n",
    "# yy\n",
    "# ttt\n",
    "# hhhh\n",
    "# ooooo\n",
    "# nnnnnn\n",
    "\n",
    "# for\n",
    "a = 'python'\n",
    "print(a[0]*1)\n",
    "print(a[1]*2)\n",
    "print(a[2]*3)\n",
    "print(a[4]*5)\n",
    "print(a[5]*6)\n",
    "\n",
    "a = 'python'\n",
    "for i in range(len(a)):\n",
    "    print(a[i]*(i+1))\n",
    "\n",
    "\n",
    "# while\n",
    "i = 0\n",
    "while i<=5:\n",
    "    print(a[i]*(i+1))\n",
    "    i += 1"
   ]
  },
  {
   "cell_type": "code",
   "execution_count": 73,
   "id": "191b7f60",
   "metadata": {},
   "outputs": [
    {
     "name": "stdout",
     "output_type": "stream",
     "text": [
      "nnnnnn\n",
      "ooooo\n",
      "hhhh\n",
      "ttt\n",
      "yy\n",
      "p\n",
      "nnnnnn\n",
      "ooooo\n",
      "hhhh\n",
      "ttt\n",
      "yy\n",
      "p\n",
      "nnnnnn\n",
      "ooooo\n",
      "hhhh\n",
      "ttt\n",
      "yy\n",
      "p\n",
      "\n"
     ]
    }
   ],
   "source": [
    "# nnnnnnn\n",
    "# oooooo\n",
    "# hhhh\n",
    "# ttt\n",
    "# yy\n",
    "# p\n",
    "\n",
    "a = 'python'\n",
    "print(a[5]*6)\n",
    "print(a[4]*5)\n",
    "print(a[3]*4)\n",
    "print(a[2]*3)\n",
    "print(a[1]*2)\n",
    "print(a[0]*1)\n",
    "\n",
    "for i in range(6,0,-1):\n",
    "    print(a[i-1]*i)\n",
    "    \n",
    "i =6\n",
    "while i >= 0:\n",
    "    print(a[i-1]*i)\n",
    "    i = i-1"
   ]
  },
  {
   "cell_type": "code",
   "execution_count": null,
   "id": "5a86038a",
   "metadata": {},
   "outputs": [],
   "source": []
  }
 ],
 "metadata": {
  "kernelspec": {
   "display_name": "Python 3",
   "language": "python",
   "name": "python3"
  },
  "language_info": {
   "codemirror_mode": {
    "name": "ipython",
    "version": 3
   },
   "file_extension": ".py",
   "mimetype": "text/x-python",
   "name": "python",
   "nbconvert_exporter": "python",
   "pygments_lexer": "ipython3",
   "version": "3.8.8"
  }
 },
 "nbformat": 4,
 "nbformat_minor": 5
}
