{
 "cells": [
  {
   "cell_type": "code",
   "execution_count": null,
   "metadata": {},
   "outputs": [],
   "source": [
    "- types of errors\n",
    "\n",
    "1. logical - error mabe by use in some logic\n",
    "2. compile time error - syntax , indenation\n",
    "3. run time error - divide by zero , type error , Name errror\n",
    "\n",
    "Note - exceptional handling can only handle runtime errors"
   ]
  },
  {
   "cell_type": "code",
   "execution_count": null,
   "metadata": {},
   "outputs": [],
   "source": [
    "source code ----->compiled (compile time errors) ----> interper (run time error)"
   ]
  },
  {
   "cell_type": "code",
   "execution_count": 1,
   "metadata": {},
   "outputs": [
    {
     "name": "stdout",
     "output_type": "stream",
     "text": [
      "['ArithmeticError', 'AssertionError', 'AttributeError', 'BaseException', 'BlockingIOError', 'BrokenPipeError', 'BufferError', 'BytesWarning', 'ChildProcessError', 'ConnectionAbortedError', 'ConnectionError', 'ConnectionRefusedError', 'ConnectionResetError', 'DeprecationWarning', 'EOFError', 'Ellipsis', 'EnvironmentError', 'Exception', 'False', 'FileExistsError', 'FileNotFoundError', 'FloatingPointError', 'FutureWarning', 'GeneratorExit', 'IOError', 'ImportError', 'ImportWarning', 'IndentationError', 'IndexError', 'InterruptedError', 'IsADirectoryError', 'KeyError', 'KeyboardInterrupt', 'LookupError', 'MemoryError', 'ModuleNotFoundError', 'NameError', 'None', 'NotADirectoryError', 'NotImplemented', 'NotImplementedError', 'OSError', 'OverflowError', 'PendingDeprecationWarning', 'PermissionError', 'ProcessLookupError', 'RecursionError', 'ReferenceError', 'ResourceWarning', 'RuntimeError', 'RuntimeWarning', 'StopAsyncIteration', 'StopIteration', 'SyntaxError', 'SyntaxWarning', 'SystemError', 'SystemExit', 'TabError', 'TimeoutError', 'True', 'TypeError', 'UnboundLocalError', 'UnicodeDecodeError', 'UnicodeEncodeError', 'UnicodeError', 'UnicodeTranslateError', 'UnicodeWarning', 'UserWarning', 'ValueError', 'Warning', 'ZeroDivisionError', '__IPYTHON__', '__build_class__', '__debug__', '__doc__', '__import__', '__loader__', '__name__', '__package__', '__spec__', 'abs', 'all', 'any', 'ascii', 'bin', 'bool', 'breakpoint', 'bytearray', 'bytes', 'callable', 'chr', 'classmethod', 'compile', 'complex', 'copyright', 'credits', 'delattr', 'dict', 'dir', 'display', 'divmod', 'enumerate', 'eval', 'exec', 'filter', 'float', 'format', 'frozenset', 'get_ipython', 'getattr', 'globals', 'hasattr', 'hash', 'help', 'hex', 'id', 'input', 'int', 'isinstance', 'issubclass', 'iter', 'len', 'license', 'list', 'locals', 'map', 'max', 'memoryview', 'min', 'next', 'object', 'oct', 'open', 'ord', 'pow', 'print', 'property', 'range', 'repr', 'reversed', 'round', 'set', 'setattr', 'slice', 'sorted', 'staticmethod', 'str', 'sum', 'super', 'tuple', 'type', 'vars', 'zip']\n"
     ]
    }
   ],
   "source": [
    "# list of errors\n",
    "print(dir(__builtins__))"
   ]
  },
  {
   "cell_type": "code",
   "execution_count": null,
   "metadata": {},
   "outputs": [],
   "source": [
    "# keywrods that we will be using in exception handling\n",
    "\n",
    "- try\n",
    "- except\n",
    "- else\n",
    "- finally\n",
    "- raise"
   ]
  },
  {
   "cell_type": "code",
   "execution_count": 4,
   "metadata": {},
   "outputs": [
    {
     "name": "stdout",
     "output_type": "stream",
     "text": [
      "Enter the number30\n",
      "Enter the number0\n"
     ]
    },
    {
     "ename": "ZeroDivisionError",
     "evalue": "division by zero",
     "output_type": "error",
     "traceback": [
      "\u001b[0;31m---------------------------------------------------------------------------\u001b[0m",
      "\u001b[0;31mZeroDivisionError\u001b[0m                         Traceback (most recent call last)",
      "\u001b[0;32m<ipython-input-4-3a77d37eab98>\u001b[0m in \u001b[0;36m<module>\u001b[0;34m\u001b[0m\n\u001b[1;32m      2\u001b[0m \u001b[0mnum2\u001b[0m \u001b[0;34m=\u001b[0m \u001b[0mint\u001b[0m\u001b[0;34m(\u001b[0m\u001b[0minput\u001b[0m\u001b[0;34m(\u001b[0m\u001b[0;34m'Enter the number'\u001b[0m\u001b[0;34m)\u001b[0m\u001b[0;34m)\u001b[0m\u001b[0;34m\u001b[0m\u001b[0;34m\u001b[0m\u001b[0m\n\u001b[1;32m      3\u001b[0m \u001b[0;34m\u001b[0m\u001b[0m\n\u001b[0;32m----> 4\u001b[0;31m \u001b[0mprint\u001b[0m\u001b[0;34m(\u001b[0m\u001b[0mnum1\u001b[0m\u001b[0;34m/\u001b[0m\u001b[0mnum2\u001b[0m\u001b[0;34m)\u001b[0m\u001b[0;34m\u001b[0m\u001b[0;34m\u001b[0m\u001b[0m\n\u001b[0m\u001b[1;32m      5\u001b[0m \u001b[0;34m\u001b[0m\u001b[0m\n\u001b[1;32m      6\u001b[0m \u001b[0mprint\u001b[0m\u001b[0;34m(\u001b[0m\u001b[0mnum1\u001b[0m\u001b[0;34m)\u001b[0m\u001b[0;34m\u001b[0m\u001b[0;34m\u001b[0m\u001b[0m\n",
      "\u001b[0;31mZeroDivisionError\u001b[0m: division by zero"
     ]
    }
   ],
   "source": [
    "num1 = int(input('Enter the number'))\n",
    "num2 = int(input('Enter the number'))\n",
    "\n",
    "print(num1/num2)\n",
    "\n",
    "print(num1)\n",
    "print(num2)"
   ]
  },
  {
   "cell_type": "code",
   "execution_count": null,
   "metadata": {},
   "outputs": [],
   "source": [
    "try and Exception\n",
    "\n",
    "- try - only the code which will going to raise an error will be wriiten here\n",
    "- except - alternate code has to be written here if error is raised"
   ]
  },
  {
   "cell_type": "code",
   "execution_count": null,
   "metadata": {},
   "outputs": [],
   "source": [
    "try:\n",
    "   # some code\n",
    "except:\n",
    "    # alternate code if try throws and error"
   ]
  },
  {
   "cell_type": "code",
   "execution_count": 6,
   "metadata": {},
   "outputs": [
    {
     "name": "stdout",
     "output_type": "stream",
     "text": [
      "Enter the number100\n",
      "Enter the number0\n",
      "some error\n",
      "100\n",
      "0\n"
     ]
    }
   ],
   "source": [
    "num1 = int(input('Enter the number'))\n",
    "num2 = int(input('Enter the number'))\n",
    "\n",
    "try:\n",
    "    print(num1/num2)\n",
    "except:\n",
    "    print('some error')\n",
    "\n",
    "print(num1)\n",
    "print(num2)"
   ]
  },
  {
   "cell_type": "code",
   "execution_count": 4,
   "metadata": {},
   "outputs": [
    {
     "name": "stdout",
     "output_type": "stream",
     "text": [
      "Enter the number100\n",
      "Enter the number10\n",
      "10.0\n",
      "100\n",
      "10\n"
     ]
    }
   ],
   "source": [
    "try:\n",
    "    num1 = int(input('Enter the number'))\n",
    "    num2 = int(input('Enter the number'))\n",
    "    print(num1/num2)\n",
    "    print(num1)\n",
    "    print(num2)\n",
    "except:\n",
    "    print('some error')"
   ]
  },
  {
   "cell_type": "code",
   "execution_count": null,
   "metadata": {},
   "outputs": [],
   "source": [
    "try, Expcet and else\n",
    "\n",
    "- excecution will go in the exceptional block if try rasied an error\n",
    "- excecution will go in the else block if try does not rasied an error"
   ]
  },
  {
   "cell_type": "code",
   "execution_count": null,
   "metadata": {},
   "outputs": [],
   "source": [
    "try:\n",
    "    # some code\n",
    "except:\n",
    "    # exec if try block raises an error\n",
    "else:\n",
    "    # exec if no error in the try block"
   ]
  },
  {
   "cell_type": "code",
   "execution_count": 7,
   "metadata": {},
   "outputs": [
    {
     "name": "stdout",
     "output_type": "stream",
     "text": [
      "Enter the numberabc\n",
      "some error\n"
     ]
    }
   ],
   "source": [
    "try:\n",
    "    num1 = int(input('Enter the number'))\n",
    "    num2 = int(input('Enter the number'))\n",
    "    print(num1/num2)\n",
    "\n",
    "except:\n",
    "    print('some error')\n",
    "else:\n",
    "    print(num1)\n",
    "    print(num2)"
   ]
  },
  {
   "cell_type": "code",
   "execution_count": null,
   "metadata": {},
   "outputs": [],
   "source": [
    "try, Except , finally\n",
    "\n",
    "finally - it will be executed whatever the scnario is"
   ]
  },
  {
   "cell_type": "code",
   "execution_count": 12,
   "metadata": {},
   "outputs": [
    {
     "name": "stdout",
     "output_type": "stream",
     "text": [
      "Enter the number10\n",
      "Enter the number10\n",
      "1.0\n",
      "hello world\n"
     ]
    }
   ],
   "source": [
    "try:\n",
    "    num1 = int(input('Enter the number'))\n",
    "    num2 = int(input('Enter the number'))\n",
    "    print(num1/num2)\n",
    "\n",
    "except:\n",
    "    print('some error')\n",
    "finally:\n",
    "    print('hello world')"
   ]
  },
  {
   "cell_type": "code",
   "execution_count": 16,
   "metadata": {},
   "outputs": [
    {
     "name": "stdout",
     "output_type": "stream",
     "text": [
      "Enter the number10\n",
      "Enter the number0\n",
      "division by zero\n",
      "hello world\n"
     ]
    }
   ],
   "source": [
    "try:\n",
    "    num1 = int(input('Enter the number'))\n",
    "    num2 = int(input('Enter the number'))\n",
    "    print(num1/num2)\n",
    "\n",
    "except Exception as e:\n",
    "    print(e)\n",
    "finally:\n",
    "    print('hello world')"
   ]
  },
  {
   "cell_type": "code",
   "execution_count": null,
   "metadata": {},
   "outputs": [],
   "source": [
    "invalid literal for int() with base 10: 'abc'\n",
    "division by zero"
   ]
  },
  {
   "cell_type": "code",
   "execution_count": 19,
   "metadata": {},
   "outputs": [
    {
     "name": "stdout",
     "output_type": "stream",
     "text": [
      "Enter the number10\n",
      "Enter the number0\n",
      "6\n",
      "division by zero\n",
      "hello world\n"
     ]
    }
   ],
   "source": [
    "try:\n",
    "    num1 = int(input('Enter the number'))\n",
    "    num2 = int(input('Enter the number'))\n",
    "    print(num1/num2)\n",
    "except ZeroDivisionError as e:\n",
    "    print('6')\n",
    "    print(e)\n",
    "except ValueError as e:\n",
    "    print('9')\n",
    "    print(e)\n",
    "finally:\n",
    "    print('hello world')"
   ]
  },
  {
   "cell_type": "code",
   "execution_count": 17,
   "metadata": {},
   "outputs": [
    {
     "ename": "ValueError",
     "evalue": "invalid literal for int() with base 10: 'abc'",
     "output_type": "error",
     "traceback": [
      "\u001b[0;31m---------------------------------------------------------------------------\u001b[0m",
      "\u001b[0;31mValueError\u001b[0m                                Traceback (most recent call last)",
      "\u001b[0;32m<ipython-input-17-1e11daa61250>\u001b[0m in \u001b[0;36m<module>\u001b[0;34m\u001b[0m\n\u001b[0;32m----> 1\u001b[0;31m \u001b[0mint\u001b[0m\u001b[0;34m(\u001b[0m\u001b[0;34m'abc'\u001b[0m\u001b[0;34m)\u001b[0m\u001b[0;34m\u001b[0m\u001b[0;34m\u001b[0m\u001b[0m\n\u001b[0m",
      "\u001b[0;31mValueError\u001b[0m: invalid literal for int() with base 10: 'abc'"
     ]
    }
   ],
   "source": [
    "int('abc')"
   ]
  },
  {
   "cell_type": "code",
   "execution_count": null,
   "metadata": {},
   "outputs": [],
   "source": [
    "# nested try and expect"
   ]
  },
  {
   "cell_type": "code",
   "execution_count": 22,
   "metadata": {},
   "outputs": [
    {
     "name": "stdout",
     "output_type": "stream",
     "text": [
      "enetr the 1st number10\n",
      "enter the second numberabc\n",
      "outer error\n"
     ]
    }
   ],
   "source": [
    "a = eval(input('enetr the 1st number'))\n",
    "try:\n",
    "    b = int(input('enter the second number'))\n",
    "    try:\n",
    "        print(a/b)\n",
    "    except Exception as e:\n",
    "        print('internal error')\n",
    "except:\n",
    "    print('outer error')"
   ]
  },
  {
   "cell_type": "code",
   "execution_count": null,
   "metadata": {},
   "outputs": [],
   "source": [
    "User defined Exception - raise"
   ]
  },
  {
   "cell_type": "code",
   "execution_count": 23,
   "metadata": {},
   "outputs": [],
   "source": [
    "# raise\n",
    "\n",
    "class Myexcepetion(Exception):\n",
    "    def __init__(self, msg):\n",
    "        self.msg = msg"
   ]
  },
  {
   "cell_type": "code",
   "execution_count": 25,
   "metadata": {},
   "outputs": [
    {
     "name": "stdout",
     "output_type": "stream",
     "text": [
      "ente the amount:700000\n",
      "Over limit\n"
     ]
    }
   ],
   "source": [
    "amt = eval(input('ente the amount:'))\n",
    "try:\n",
    "    if amt > 49999:\n",
    "        raise Myexcepetion('Over limit')\n",
    "    else:\n",
    "        print('amount deposited')\n",
    "except Exception as e:\n",
    "    print(e)"
   ]
  },
  {
   "cell_type": "code",
   "execution_count": null,
   "metadata": {},
   "outputs": [],
   "source": []
  }
 ],
 "metadata": {
  "kernelspec": {
   "display_name": "Python 3",
   "language": "python",
   "name": "python3"
  },
  "language_info": {
   "codemirror_mode": {
    "name": "ipython",
    "version": 3
   },
   "file_extension": ".py",
   "mimetype": "text/x-python",
   "name": "python",
   "nbconvert_exporter": "python",
   "pygments_lexer": "ipython3",
   "version": "3.8.5"
  }
 },
 "nbformat": 4,
 "nbformat_minor": 4
}
